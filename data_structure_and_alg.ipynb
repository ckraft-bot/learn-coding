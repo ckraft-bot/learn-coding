{
 "cells": [
  {
   "cell_type": "code",
   "execution_count": 1,
   "metadata": {},
   "outputs": [
    {
     "data": {
      "text/plain": [
       "' \\nData Structures and Algorithms in Python - Full Course for Beginners: https://youtu.be/pkYVOmU3MgA\\n\\nLesson 1 - Binary Search, Linked Lists, and Complexity\\nLesson 2 - Binary Search Trees, Traversals and Recursion\\nLesson 3 - Sorting Algorithms and Divide & Conquer\\nLesson 4 - Recursion and Dynamic Programming\\nLesson 5 - Graph Algorithms (BFS, DFS & Shortest Paths)\\nLesson 6 - Python Interview Questions, Tips & Advice\\n\\nPython 3.9.5 64 bit\\n'"
      ]
     },
     "execution_count": 1,
     "metadata": {},
     "output_type": "execute_result"
    }
   ],
   "source": [
    "########################################### Data Structures and Algs in Python ###########################################\n",
    "\"\"\" \n",
    "Data Structures and Algorithms in Python - Full Course for Beginners: https://youtu.be/pkYVOmU3MgA\n",
    "\n",
    "Lesson 1 - Binary Search, Linked Lists, and Complexity\n",
    "Lesson 2 - Binary Search Trees, Traversals and Recursion\n",
    "Lesson 3 - Sorting Algorithms and Divide & Conquer\n",
    "Lesson 4 - Recursion and Dynamic Programming\n",
    "Lesson 5 - Graph Algorithms (BFS, DFS & Shortest Paths)\n",
    "Lesson 6 - Python Interview Questions, Tips & Advice\n",
    "\n",
    "Python 3.9.5 64 bit\n",
    "\"\"\""
   ]
  },
  {
   "cell_type": "code",
   "execution_count": 2,
   "metadata": {},
   "outputs": [],
   "source": [
    "########################################### Lesson 1 ###########################################"
   ]
  },
  {
   "cell_type": "code",
   "execution_count": 3,
   "metadata": {},
   "outputs": [
    {
     "data": {
      "text/plain": [
       "7.0"
      ]
     },
     "execution_count": 3,
     "metadata": {},
     "output_type": "execute_result"
    }
   ],
   "source": [
    "import math\n",
    "math.sqrt(49)"
   ]
  },
  {
   "cell_type": "code",
   "execution_count": 4,
   "metadata": {},
   "outputs": [
    {
     "data": {
      "text/plain": [
       "' \\nQ: Alice has some cards with numbers written on them. \\nShe arranges the cards in decreasing order, and lays them out face down in a sequence on a table.\\nShe challenges Bob to pick out the card containing a given number by turning over as few cards as possible.\\nWrite a function to help Bob locate the card.\\n\\nApproach:\\n1a. State the problem: \\n    We need to write a program to find the position of a given number in a list of numbers arranged in decreasing order. \\n    We need to minimize the number of times we access elements from the list.\\n1b. Identify input/output\\n    - input- cards: a list of numbers sorted in desc order\\n    - input- query: a number, whose position in the array is to be determined\\n    - output- postiion: the postiion of query in the list\\n2. Come up with some example input output. Try to think of the what ifs or edge cases\\n3. Come up with the correct solution to the problem\\n4. Implement the solution and test it using example inputs\\n5. Identify any alg complexity and inefficiencies\\n6. Apply the right technique to overcome any inefficiencies, return to step 3.\\n'"
      ]
     },
     "execution_count": 4,
     "metadata": {},
     "output_type": "execute_result"
    }
   ],
   "source": [
    "\"\"\" \n",
    "Q: Alice has some cards with numbers written on them. \n",
    "She arranges the cards in decreasing order, and lays them out face down in a sequence on a table.\n",
    "She challenges Bob to pick out the card containing a given number by turning over as few cards as possible.\n",
    "Write a function to help Bob locate the card.\n",
    "\n",
    "Approach:\n",
    "1a. State the problem: \n",
    "    We need to write a program to find the position of a given number in a list of numbers arranged in decreasing order. \n",
    "    We need to minimize the number of times we access elements from the list.\n",
    "1b. Identify input/output\n",
    "    - input- cards: a list of numbers sorted in desc order\n",
    "    - input- query: a number, whose position in the array is to be determined\n",
    "    - output- postiion: the postiion of query in the list\n",
    "2. Come up with some example input output. Try to think of the what ifs or edge cases\n",
    "3. Come up with the correct solution to the problem\n",
    "4. Implement the solution and test it using example inputs\n",
    "5. Identify any alg complexity and inefficiencies\n",
    "6. Apply the right technique to overcome any inefficiencies, return to step 3.\n",
    "\"\"\""
   ]
  },
  {
   "cell_type": "code",
   "execution_count": 5,
   "metadata": {},
   "outputs": [
    {
     "data": {
      "text/plain": [
       "'\\ninput cards = sorted list\\ninput query = query number\\noutput position = position of query number in the sorted list\\n'"
      ]
     },
     "execution_count": 5,
     "metadata": {},
     "output_type": "execute_result"
    }
   ],
   "source": [
    "# Step 1\n",
    "\"\"\"\n",
    "input cards = sorted list\n",
    "input query = query number\n",
    "output position = position of query number in the sorted list\n",
    "\"\"\""
   ]
  },
  {
   "cell_type": "code",
   "execution_count": 6,
   "metadata": {},
   "outputs": [
    {
     "name": "stdout",
     "output_type": "stream",
     "text": [
      "None\n"
     ]
    },
    {
     "data": {
      "text/plain": [
       "False"
      ]
     },
     "execution_count": 6,
     "metadata": {},
     "output_type": "execute_result"
    }
   ],
   "source": [
    "# Step 2\n",
    "# Below is the test case\n",
    "def locate_card(cards, query):\n",
    "    pass\n",
    "\n",
    "cards = [13, 11, 1, 7, 4, 3, 1, 0]\n",
    "query = 7\n",
    "output = 3 # we predict the expected output is this- 3rd index or placement\n",
    "\n",
    "result = locate_card(cards, query)\n",
    "print(result)\n",
    "\n",
    "result == output"
   ]
  },
  {
   "cell_type": "code",
   "execution_count": 7,
   "metadata": {},
   "outputs": [
    {
     "data": {
      "text/plain": [
       "False"
      ]
     },
     "execution_count": 7,
     "metadata": {},
     "output_type": "execute_result"
    }
   ],
   "source": [
    "# Step 2\n",
    "test = {\n",
    "    'input': {\n",
    "        'cards': [13, 11, 10, 7, 4, 3, 1, 0],\n",
    "        'query': 7\n",
    "    },\n",
    "    'output': 3 # we predict the expected output is this- 3rd index or placement\n",
    "}\n",
    "\n",
    "#locate_card(test['input']['cards'], test['input']['query']) == test['output']\n",
    "locate_card(**test['input']) == test['output']\n",
    "# expected output = False"
   ]
  },
  {
   "cell_type": "code",
   "execution_count": 8,
   "metadata": {},
   "outputs": [
    {
     "data": {
      "text/plain": [
       "'  \\nThe what ifs or edge cases...\\n    - the 7 card is in the middle of all the cards\\n    - the 7 card is the first card of all the cards\\n    - the 7 card is the last card of all the cards\\n    - there is only one card\\n    - there is no 7 card, Alice is being sneaky\\n    - there are repeating cards (e.g. there might be a card that is 2 and the card to the right is also 2)\\n    - there are multiple 7 cards positioned throughout, Alice is being tricky\\n    - there might be three cards in the whole list of cards that are 7 but are scattered through rather than being stacked on top of each other\\n'"
      ]
     },
     "execution_count": 8,
     "metadata": {},
     "output_type": "execute_result"
    }
   ],
   "source": [
    "# Step 2\n",
    "\"\"\"  \n",
    "The what ifs or edge cases...\n",
    "    - the 7 card is in the middle of all the cards\n",
    "    - the 7 card is the first card of all the cards\n",
    "    - the 7 card is the last card of all the cards\n",
    "    - there is only one card\n",
    "    - there is no 7 card, Alice is being sneaky\n",
    "    - there are repeating cards (e.g. there might be a card that is 2 and the card to the right is also 2)\n",
    "    - there are multiple 7 cards positioned throughout, Alice is being tricky\n",
    "    - there might be three cards in the whole list of cards that are 7 but are scattered through rather than being stacked on top of each other\n",
    "\"\"\""
   ]
  },
  {
   "cell_type": "code",
   "execution_count": 9,
   "metadata": {},
   "outputs": [],
   "source": [
    "# Step 2\n",
    "tests = []"
   ]
  },
  {
   "cell_type": "code",
   "execution_count": 10,
   "metadata": {},
   "outputs": [],
   "source": [
    "# Step 2\n",
    "# Query occurs in the middle.\n",
    "tests.append(test)\n",
    "tests.append({'input': {\n",
    "        'cards': [13, 11, 10, 7, 4, 3, 1, 0],\n",
    "        'query': 1\n",
    "    },\n",
    "    'output': 6 # we predict the expected output is this- 6th index or placement\n",
    "})"
   ]
  },
  {
   "cell_type": "code",
   "execution_count": 11,
   "metadata": {},
   "outputs": [],
   "source": [
    "# Step 2\n",
    "# Query occurs in the beginning, first element\n",
    "tests.append({'input': {\n",
    "        'cards': [4, 2, 1, -1],\n",
    "        'query': 4\n",
    "    },\n",
    "    'output': 0 # we predict the expected output is this- 6th index or placement\n",
    "})"
   ]
  },
  {
   "cell_type": "code",
   "execution_count": 12,
   "metadata": {},
   "outputs": [],
   "source": [
    "# Step 2\n",
    "# Query occurs in the end, last element\n",
    "tests.append({'input': {\n",
    "        'cards': [3, -1, -9, -127],\n",
    "        'query': -127\n",
    "    },\n",
    "    'output': 3 # we predict the expected output is this- 3rd index or placement\n",
    "})"
   ]
  },
  {
   "cell_type": "code",
   "execution_count": 13,
   "metadata": {},
   "outputs": [],
   "source": [
    "# Step 2\n",
    "# In the list of cards, there contains just one card\n",
    "tests.append({'input': {\n",
    "        'cards': [6],\n",
    "        'query': 6\n",
    "    },\n",
    "    'output': 0 # we predict the expected output is this- very beginning index or placement\n",
    "})"
   ]
  },
  {
   "cell_type": "code",
   "execution_count": 14,
   "metadata": {},
   "outputs": [],
   "source": [
    "# Step 2\n",
    "# Cards do not contain query\n",
    "tests.append({'input': {\n",
    "        'cards': [9, 7, 5, 2, -9],\n",
    "        'query': 4\n",
    "    },\n",
    "    'output': -1\n",
    "})"
   ]
  },
  {
   "cell_type": "code",
   "execution_count": 15,
   "metadata": {},
   "outputs": [],
   "source": [
    "# Step 2\n",
    "# Cards list is empty\n",
    "tests.append({'input': {\n",
    "        'cards': [],\n",
    "        'query': 7\n",
    "    },\n",
    "    'output': -1\n",
    "})"
   ]
  },
  {
   "cell_type": "code",
   "execution_count": 16,
   "metadata": {},
   "outputs": [],
   "source": [
    "# Step 2\n",
    "# Cards repeat in list\n",
    "tests.append({'input': {\n",
    "        'cards': [8, 8, 6, 6, 6, 6, 6, 3, 2, 2, 2, 0],\n",
    "        'query': 3\n",
    "    },\n",
    "    'output': 7\n",
    "})\n",
    "# the query is 3 and there is only one 3 card that has only on postion "
   ]
  },
  {
   "cell_type": "code",
   "execution_count": 17,
   "metadata": {},
   "outputs": [],
   "source": [
    "# Step 2\n",
    "# There are multiple queries\n",
    "tests.append({'input': {\n",
    "        'cards': [8, 8, 6, 6, 6, 6, 6, 6, 3, 2, 2, 2, 0],\n",
    "        'query': 3\n",
    "    },\n",
    "    'output': 2\n",
    "})\n",
    "\n",
    "# the query is 6 and there are multiple 6 cards that has multiple positions"
   ]
  },
  {
   "cell_type": "code",
   "execution_count": 18,
   "metadata": {},
   "outputs": [
    {
     "data": {
      "text/plain": [
       "[{'input': {'cards': [13, 11, 10, 7, 4, 3, 1, 0], 'query': 7}, 'output': 3},\n",
       " {'input': {'cards': [13, 11, 10, 7, 4, 3, 1, 0], 'query': 1}, 'output': 6},\n",
       " {'input': {'cards': [4, 2, 1, -1], 'query': 4}, 'output': 0},\n",
       " {'input': {'cards': [3, -1, -9, -127], 'query': -127}, 'output': 3},\n",
       " {'input': {'cards': [6], 'query': 6}, 'output': 0},\n",
       " {'input': {'cards': [9, 7, 5, 2, -9], 'query': 4}, 'output': -1},\n",
       " {'input': {'cards': [], 'query': 7}, 'output': -1},\n",
       " {'input': {'cards': [8, 8, 6, 6, 6, 6, 6, 3, 2, 2, 2, 0], 'query': 3},\n",
       "  'output': 7},\n",
       " {'input': {'cards': [8, 8, 6, 6, 6, 6, 6, 6, 3, 2, 2, 2, 0], 'query': 3},\n",
       "  'output': 2}]"
      ]
     },
     "execution_count": 18,
     "metadata": {},
     "output_type": "execute_result"
    }
   ],
   "source": [
    "# Step 2\n",
    "# See the full list of test cases\n",
    "tests"
   ]
  },
  {
   "cell_type": "code",
   "execution_count": 19,
   "metadata": {},
   "outputs": [
    {
     "data": {
      "text/plain": [
       "\"\\nThe simplest or most obcious solution involves chekcing all possible answers. This is calle brute force solution.\\nBob can simply turn over cards in order one by one until he gets to the card with a '7' on it. \\nTo do this we'll\\n    - creat a variable position with the value 0\\n    - check whether the number at index positon in cards = query (which in this case is '7')\\n    - if it does the return the index position\\n    - if not then increment the value of psoiton by 1 and repeat even if it goes to the very last position\\n    - if the number was not found then return '-1' because Alice could be bluffing\\nThis linear process of looking at an element after element is called 'linear search algorithm.\\n\\nAlgorithm: linear search algorithm\\n\""
      ]
     },
     "execution_count": 19,
     "metadata": {},
     "output_type": "execute_result"
    }
   ],
   "source": [
    "# Step 3\n",
    "\"\"\"\n",
    "The simplest or most obcious solution involves chekcing all possible answers. This is calle brute force solution.\n",
    "Bob can simply turn over cards in order one by one until he gets to the card with a '7' on it. \n",
    "To do this we'll\n",
    "    - creat a variable position with the value 0\n",
    "    - check whether the number at index positon in cards = query (which in this case is '7')\n",
    "    - if it does the return the index position\n",
    "    - if not then increment the value of psoiton by 1 and repeat even if it goes to the very last position\n",
    "    - if the number was not found then return '-1' because Alice could be bluffing\n",
    "This linear process of looking at an element after element is called 'linear search algorithm.\n",
    "\n",
    "Algorithm: linear search algorithm\n",
    "\"\"\""
   ]
  },
  {
   "cell_type": "code",
   "execution_count": 20,
   "metadata": {},
   "outputs": [],
   "source": [
    "# Step 4\n",
    "def locate_card(cards, query):\n",
    "    # create a var postion with the value of 0\n",
    "    position = 0\n",
    "    # set up a loop for repeititon\n",
    "    while True:\n",
    "        # check if element at the current positon matches the query\n",
    "        if cards[position] == query:\n",
    "            # postiion of the query found! diga me!!\n",
    "            return position\n",
    "        # increment the postion\n",
    "        position += 1\n",
    "        # check if we have reached the end of the array\n",
    "        if position == len(cards):\n",
    "            # now that we've reached the end and the query card is not found then print '-1'\n",
    "            return -1 "
   ]
  },
  {
   "cell_type": "code",
   "execution_count": 21,
   "metadata": {},
   "outputs": [
    {
     "data": {
      "text/plain": [
       "{'input': {'cards': [13, 11, 10, 7, 4, 3, 1, 0], 'query': 7}, 'output': 3}"
      ]
     },
     "execution_count": 21,
     "metadata": {},
     "output_type": "execute_result"
    }
   ],
   "source": [
    "# Step 4\n",
    "test"
   ]
  },
  {
   "cell_type": "code",
   "execution_count": 22,
   "metadata": {},
   "outputs": [
    {
     "data": {
      "text/plain": [
       "True"
      ]
     },
     "execution_count": 22,
     "metadata": {},
     "output_type": "execute_result"
    }
   ],
   "source": [
    "# Step 4\n",
    "locate_card(test['input']['cards'], test['input']['query']) == test['output']"
   ]
  },
  {
   "cell_type": "code",
   "execution_count": 23,
   "metadata": {},
   "outputs": [
    {
     "data": {
      "text/plain": [
       "False"
      ]
     },
     "execution_count": 23,
     "metadata": {},
     "output_type": "execute_result"
    }
   ],
   "source": [
    "# Step 4\n",
    "result == output"
   ]
  },
  {
   "cell_type": "code",
   "execution_count": 24,
   "metadata": {},
   "outputs": [
    {
     "data": {
      "text/plain": [
       "\"\\nComplexity and Big O Notation\\n\\nComplexity: of an alg is a measure of the amount of time and/or space required by an alg for an iput of a given size (N). \\nUnless otherwise stated, the term 'complexity' alwyas refer to the worse case complexity. \\n    Meaning the highest possible time/sapce taken by the program/alg to process an input.\\n\\nIn the case of linear search alg ...\\nthe time complexity of the alg is cN for some fixed constant c that deptneds on the number of operations we perfor in each iteration\\n    and the tiem taken to execute a statement. \\nthe space complexity is some constant c' (independent of N), since we jsut need a single variable (postion) to iterate through the array\\n    and it occupies a constant space in the computer's memory (RAM).\\n    \\nBig O Notation: worst case complexity is often expressed using the Big O noation. In the Big O we droped fixed constants and lower power of variables\\n    to capture the trend of a relationship b/w the size of the input and the complexity of the alg.\\n    If the complexity of the alg is cN^3 + dN^2 + eN + f, the Big O Notation is expressed as O(N^3).\\n    Thus the time complexity of leanr search is O(N) and its space complexity is O(1).\\n        O(N) -- the constant is dropped\\n    \\n    \\nresource: https://www.bigocheatsheet.com/\\n\""
      ]
     },
     "execution_count": 24,
     "metadata": {},
     "output_type": "execute_result"
    }
   ],
   "source": [
    "# Step 5\n",
    "\"\"\"\n",
    "Complexity and Big O Notation\n",
    "\n",
    "Complexity: of an alg is a measure of the amount of time and/or space required by an alg for an iput of a given size (N). \n",
    "Unless otherwise stated, the term 'complexity' alwyas refer to the worse case complexity. \n",
    "    Meaning the highest possible time/sapce taken by the program/alg to process an input.\n",
    "\n",
    "In the case of linear search alg ...\n",
    "the time complexity of the alg is cN for some fixed constant c that deptneds on the number of operations we perfor in each iteration\n",
    "    and the tiem taken to execute a statement. \n",
    "the space complexity is some constant c' (independent of N), since we jsut need a single variable (postion) to iterate through the array\n",
    "    and it occupies a constant space in the computer's memory (RAM).\n",
    "    \n",
    "Big O Notation: worst case complexity is often expressed using the Big O noation. In the Big O we droped fixed constants and lower power of variables\n",
    "    to capture the trend of a relationship b/w the size of the input and the complexity of the alg.\n",
    "    If the complexity of the alg is cN^3 + dN^2 + eN + f, the Big O Notation is expressed as O(N^3).\n",
    "    Thus the time complexity of leanr search is O(N) and its space complexity is O(1).\n",
    "        O(N) -- the constant is dropped\n",
    "    \n",
    "    \n",
    "resource: https://www.bigocheatsheet.com/\n",
    "\"\"\""
   ]
  },
  {
   "cell_type": "code",
   "execution_count": 25,
   "metadata": {},
   "outputs": [
    {
     "data": {
      "text/plain": [
       "\"     \\nWhen i proposed that we start querying from the middle and then splitting left or right depending on the middle card. That is called 'Binary Search'!!\\nApplying this to the scenario earlier ,\\n    'Q: Alice has some cards with numbers written on them. \\n    She arranges the cards in decreasing order, and lays them out face down in a sequence on a table.\\n    She challenges Bob to pick out the card containing a given number by turning over as few cards as possible,' \\nwe can pick a radom card and use the fact that the list is sorted to determine whether the target (7) card lies to the left or right.\\nIf we pick the middle card we can reduce the number of additional cards to be tested to half the size of the list. Then we can simply repeat the process with each half.\\n\\n\""
      ]
     },
     "execution_count": 25,
     "metadata": {},
     "output_type": "execute_result"
    }
   ],
   "source": [
    "# Step 6\n",
    "\"\"\"     \n",
    "When i proposed that we start querying from the middle and then splitting left or right depending on the middle card. That is called 'Binary Search'!!\n",
    "Applying this to the scenario earlier ,\n",
    "    'Q: Alice has some cards with numbers written on them. \n",
    "    She arranges the cards in decreasing order, and lays them out face down in a sequence on a table.\n",
    "    She challenges Bob to pick out the card containing a given number by turning over as few cards as possible,' \n",
    "we can pick a radom card and use the fact that the list is sorted to determine whether the target (7) card lies to the left or right.\n",
    "If we pick the middle card we can reduce the number of additional cards to be tested to half the size of the list. Then we can simply repeat the process with each half.\n",
    "\n",
    "\"\"\""
   ]
  },
  {
   "cell_type": "code",
   "execution_count": 26,
   "metadata": {},
   "outputs": [],
   "source": [
    "#!pip install jovian --upgrade --quiet"
   ]
  },
  {
   "cell_type": "code",
   "execution_count": 27,
   "metadata": {},
   "outputs": [],
   "source": [
    "#import jovian"
   ]
  },
  {
   "cell_type": "code",
   "execution_count": 28,
   "metadata": {},
   "outputs": [],
   "source": [
    "# Binary search\n",
    "def locate_card(cards,query):\n",
    "    while low <= high:\n",
    "        mid = (low + high)//2\n",
    "        mid_number = cards[mid]\n",
    "        print(\"Low: \", low, \", High: \", high, \", Mid: \", mid, \", mid_number: \", mid_number)\n",
    "        if mid_number == query:\n",
    "            return mid\n",
    "        elif mid_number < query:\n",
    "            high = mid - 1\n",
    "        elif mid_number > query:\n",
    "            low = mid + 1\n",
    "    return -1 # -1 is returned when the '7' card is not found. "
   ]
  },
  {
   "cell_type": "code",
   "execution_count": 29,
   "metadata": {},
   "outputs": [],
   "source": [
    "# Binary search\n",
    "def test_location(cards,query,mid):\n",
    "    mid_number = cards[mid]\n",
    "    print(\"Mid: \", mid, \", mid_number: \", mid_number)\n",
    "    if mid_number == query:\n",
    "        if mid -1 >= 0 and cards[mid -1] == query:\n",
    "            return 'left'\n",
    "        else: \n",
    "            return 'found'\n",
    "    elif mid_number < query: \n",
    "        return 'left'\n",
    "    else:\n",
    "        return 'right'\n",
    "\n",
    "def locate_card(cards,query):\n",
    "    low , high = 0, len(cards)- 1\n",
    "    \n",
    "    while low <= high:\n",
    "        print(\"Low: \", low, \", High: \", high)\n",
    "        mid = (low + high)//2\n",
    "        result = test_location(cards, query, mid)\n",
    "        if result == 'found':\n",
    "            return mid\n",
    "        elif result == 'left':\n",
    "            high = mid - 1 \n",
    "        elif result == 'right':\n",
    "            low = mid + 1\n",
    "    return -1 # -1 is returned when the '7' card is not found. "
   ]
  },
  {
   "cell_type": "code",
   "execution_count": 30,
   "metadata": {},
   "outputs": [],
   "source": [
    "# Binary search\n",
    "def locate_card_linear(cards,query):\n",
    "    position = 0 \n",
    "    while position < len (cards):\n",
    "        if cards[position] == query:\n",
    "            return position\n",
    "        position += 1\n",
    "        return -1 # -1 is returned when the '7' card is not found. "
   ]
  },
  {
   "cell_type": "code",
   "execution_count": 31,
   "metadata": {},
   "outputs": [],
   "source": [
    "# Binary search\n",
    "large_test = {\n",
    "    'input': {\n",
    "        'cards': list(range(10000000, 0 , -1)),\n",
    "        'query': 2 \n",
    "    },\n",
    "    'output': 9999998\n",
    "}"
   ]
  },
  {
   "cell_type": "code",
   "execution_count": 32,
   "metadata": {},
   "outputs": [],
   "source": [
    "# Conclusion: the bianry search is over 55,000 times faster than the linear search alg."
   ]
  },
  {
   "cell_type": "code",
   "execution_count": 33,
   "metadata": {},
   "outputs": [],
   "source": [
    "########################################### Lesson 2 ###########################################"
   ]
  },
  {
   "cell_type": "code",
   "execution_count": 34,
   "metadata": {},
   "outputs": [
    {
     "data": {
      "text/plain": [
       "\"      \\nQ: As a senior backend engineer at Jovian, you are tasked with developing a fast in memory data structure \\n    to manage profile information (username, name, email) for 100 million users.\\n    It should allow the follwing operations to be performed efficiently.\\n    \\n    1. insert the profile info for a new user\\n    2. find the profile info of a user, given their username\\n    3. update the profile info of a user, given their username\\n    4. list all the users of the platform, sorted by username\\n    \\n    *Assume usernames are unique\\n\\nApproach:\\n1a. State the problem: \\n    We need to create a profile management system (a database of some sort) to manage 100 M records. \\n    The system will perform insertion, search. udpate, and list operations.\\n1b. Identify input/output\\n    - input: user profile details such as username, name, email\\n    - output: create a database class with four methods: insert, find, update, and list all\\n2. Come up with some example input output. Try to think of the what ifs or edge case.\\n    Going to use the Office cast as the examples.\\n    Some what ifs/edge cases might be...\\n        inserting into an empty db of users\\n        trying to insert a use with a username that is already taken\\n        finding multiple people who share the same name\\n        udpating the wrong person because of similar profiles\\n        listing partial list of the whole roster list in the db\\n3. Come up with the correct solution to the problem\\n    insert: loop tthrough the roster and add the new user at a psotion that keeps the roster sorted\\n    find: loop through the roster and find the user object with the username matching the query\\n    update: loop through the roster, find the user object with the username matching the query, and update the details\\n    list: return the roster list of user objects\\n4. Implement the solution and test it using example inputs\\n5. Identify any alg complexity and inefficiencies\\n    The operations insert, find, update involve iterating over a list of users.\\n    In the worst case, they make take up to N  interations to return a result where n is the total numeber of users\\n    List all oepration, however, simply returned the exiting itnernal roster list of users.\\n    Thus the time complexities of the various operations are:\\n        insert: O(N)\\n        find: O(N)\\n        update: O(N)\\n        list: O(1)\\n    Testing the efficienies out with timeit-- for loop and while loop and then evaluating the wall time.\\n6. Apply the right technique to overcome any inefficiencies, return to step 3.\\n    Binary tree!!\\n    We can limit the num of iterations required for common operations like find, insert, and update by organizing our data into a binary tree structure.\\n    'Binary' means node.\\n    Nodes can have 0, 1, or 2 children. Nodes that have no children are called leaves.\\n    The single node at the very top is called the 'root node' and is typically where operations like serach, insertction, etc. begin\\n    \\n    Pratically speaking, we'll group the Office cast into their department groups. Like marketing (Jim, Dwight, Phyllis) vs finance (Angela, Oscar, Kevin)\\n    \\n\\n\""
      ]
     },
     "execution_count": 34,
     "metadata": {},
     "output_type": "execute_result"
    }
   ],
   "source": [
    "\"\"\"      \n",
    "Q: As a senior backend engineer at Jovian, you are tasked with developing a fast in memory data structure \n",
    "    to manage profile information (username, name, email) for 100 million users.\n",
    "    It should allow the follwing operations to be performed efficiently.\n",
    "    \n",
    "    1. insert the profile info for a new user\n",
    "    2. find the profile info of a user, given their username\n",
    "    3. update the profile info of a user, given their username\n",
    "    4. list all the users of the platform, sorted by username\n",
    "    \n",
    "    *Assume usernames are unique\n",
    "\n",
    "Approach:\n",
    "1a. State the problem: \n",
    "    We need to create a profile management system (a database of some sort) to manage 100 M records. \n",
    "    The system will perform insertion, search. udpate, and list operations.\n",
    "1b. Identify input/output\n",
    "    - input: user profile details such as username, name, email\n",
    "    - output: create a database class with four methods: insert, find, update, and list all\n",
    "2. Come up with some example input output. Try to think of the what ifs or edge case.\n",
    "    Going to use the Office cast as the examples.\n",
    "    Some what ifs/edge cases might be...\n",
    "        inserting into an empty db of users\n",
    "        trying to insert a use with a username that is already taken\n",
    "        finding multiple people who share the same name\n",
    "        udpating the wrong person because of similar profiles\n",
    "        listing partial list of the whole roster list in the db\n",
    "3. Come up with the correct solution to the problem\n",
    "    insert: loop tthrough the roster and add the new user at a psotion that keeps the roster sorted\n",
    "    find: loop through the roster and find the user object with the username matching the query\n",
    "    update: loop through the roster, find the user object with the username matching the query, and update the details\n",
    "    list: return the roster list of user objects\n",
    "4. Implement the solution and test it using example inputs\n",
    "5. Identify any alg complexity and inefficiencies\n",
    "    The operations insert, find, update involve iterating over a list of users.\n",
    "    In the worst case, they make take up to N  interations to return a result where n is the total numeber of users\n",
    "    List all oepration, however, simply returned the exiting itnernal roster list of users.\n",
    "    Thus the time complexities of the various operations are:\n",
    "        insert: O(N)\n",
    "        find: O(N)\n",
    "        update: O(N)\n",
    "        list: O(1)\n",
    "    Testing the efficienies out with timeit-- for loop and while loop and then evaluating the wall time.\n",
    "6. Apply the right technique to overcome any inefficiencies, return to step 3.\n",
    "    Binary tree!!\n",
    "    We can limit the num of iterations required for common operations like find, insert, and update by organizing our data into a binary tree structure.\n",
    "    'Binary' means node.\n",
    "    Nodes can have 0, 1, or 2 children. Nodes that have no children are called leaves.\n",
    "    The single node at the very top is called the 'root node' and is typically where operations like serach, insertction, etc. begin\n",
    "    \n",
    "    Pratically speaking, we'll group the Office cast into their department groups. Like marketing (Jim, Dwight, Phyllis) vs finance (Angela, Oscar, Kevin)\n",
    "    \n",
    "\n",
    "\"\"\""
   ]
  },
  {
   "cell_type": "code",
   "execution_count": 35,
   "metadata": {},
   "outputs": [
    {
     "name": "stdout",
     "output_type": "stream",
     "text": [
      "User created!\n"
     ]
    }
   ],
   "source": [
    "# OOP reveiw\n",
    "class User:                                     # class\n",
    "    def __init__(self, username, name, email):  # constructor method\n",
    "        self.username = username                # attribute/property\n",
    "        self.name = name                        # attribute/property\n",
    "        self.email = email                      # attribute/property\n",
    "        print('User created!')\n",
    "        \n",
    "user_me = User('CKRAFT_BOT', 'Claire', 'me@mail.com') # instantiate an object and calling object like a function\n"
   ]
  },
  {
   "cell_type": "code",
   "execution_count": 36,
   "metadata": {},
   "outputs": [
    {
     "data": {
      "text/plain": [
       "('me@mail.com', 'CKRAFT_BOT')"
      ]
     },
     "execution_count": 36,
     "metadata": {},
     "output_type": "execute_result"
    }
   ],
   "source": [
    "# OOP reveiw\n",
    "user_me.email, user_me.username"
   ]
  },
  {
   "cell_type": "code",
   "execution_count": 37,
   "metadata": {},
   "outputs": [
    {
     "data": {
      "text/plain": [
       "'Claire'"
      ]
     },
     "execution_count": 37,
     "metadata": {},
     "output_type": "execute_result"
    }
   ],
   "source": [
    "# OOP reveiw\n",
    "user_me.name"
   ]
  },
  {
   "cell_type": "code",
   "execution_count": 38,
   "metadata": {},
   "outputs": [],
   "source": [
    "# OOP reveiw\n",
    "class User:\n",
    "    def __init__(self, username, name, email):\n",
    "        self.username = username\n",
    "        self.name = name\n",
    "        self.email = email\n",
    "        #print('User created!')\n",
    "    def introduce_yourself(self, guest_name):\n",
    "        print(\"Hi {}, I'm {}! Contact me at {}.\".format(guest_name, self.name, self.email))"
   ]
  },
  {
   "cell_type": "code",
   "execution_count": 39,
   "metadata": {},
   "outputs": [],
   "source": [
    "# OOP reveiw\n",
    "user2 = User('Stan', 'Stan M', 'StanM@mail.com')"
   ]
  },
  {
   "cell_type": "code",
   "execution_count": 40,
   "metadata": {},
   "outputs": [
    {
     "name": "stdout",
     "output_type": "stream",
     "text": [
      "Hi Claire, I'm Stan M! Contact me at StanM@mail.com.\n"
     ]
    }
   ],
   "source": [
    "# OOP reveiw\n",
    "user2.introduce_yourself('Claire') "
   ]
  },
  {
   "cell_type": "code",
   "execution_count": 41,
   "metadata": {},
   "outputs": [
    {
     "data": {
      "text/plain": [
       "\"  \\n__repr__ and __str__ are helper methods.\\nIn Python, __repr__ is a special method used to represent a class's objects as a string. \\n    __repr__ is called by the repr() built-in function. \\n    You can define your own string representation of your class objects using the __repr__ method. \\n    Special methods are a set of predefined methods used to enrich your classes.\\nThe __str__ method in Python represents the class objects as a string – it can be used for classes.\\n    The __str__ method should be defined in a way that is easy to read and outputs all the members of the class.\\n    This method is also used as a debugging tool when the members of a class need to be checked.\\n\""
      ]
     },
     "execution_count": 41,
     "metadata": {},
     "output_type": "execute_result"
    }
   ],
   "source": [
    "# OOP reveiw\n",
    "class User:\n",
    "    def __init__(self, username, name, email):\n",
    "        self.username = username\n",
    "        self.name = name\n",
    "        self.email = email\n",
    "        #print('User created!')\n",
    "        \n",
    "    def __repr__(self):\n",
    "        return \"User(username = '{}', name = '{}', email = '{}'\".format(self.username, self.name, self.email)\n",
    "    \n",
    "    def __str__(self):\n",
    "        return self.__repr__()\n",
    "\n",
    "\"\"\"  \n",
    "__repr__ and __str__ are helper methods.\n",
    "In Python, __repr__ is a special method used to represent a class's objects as a string. \n",
    "    __repr__ is called by the repr() built-in function. \n",
    "    You can define your own string representation of your class objects using the __repr__ method. \n",
    "    Special methods are a set of predefined methods used to enrich your classes.\n",
    "The __str__ method in Python represents the class objects as a string – it can be used for classes.\n",
    "    The __str__ method should be defined in a way that is easy to read and outputs all the members of the class.\n",
    "    This method is also used as a debugging tool when the members of a class need to be checked.\n",
    "\"\"\"\n"
   ]
  },
  {
   "cell_type": "code",
   "execution_count": 42,
   "metadata": {},
   "outputs": [],
   "source": [
    "# OOP reveiw\n",
    "user3 = User('Marvin', 'Marvin K', 'MarvinK@mail.com' )"
   ]
  },
  {
   "cell_type": "code",
   "execution_count": 43,
   "metadata": {},
   "outputs": [
    {
     "data": {
      "text/plain": [
       "User(username = 'Marvin', name = 'Marvin K', email = 'MarvinK@mail.com'"
      ]
     },
     "execution_count": 43,
     "metadata": {},
     "output_type": "execute_result"
    }
   ],
   "source": [
    "# OOP reveiw\n",
    "user3"
   ]
  },
  {
   "cell_type": "code",
   "execution_count": 44,
   "metadata": {},
   "outputs": [],
   "source": [
    "# Step 1\n",
    "# Creating a data structure, pyhon class UserDatabase with 4 methods: insert, find, update, list all\n",
    "class UserDatabase:\n",
    "    def insert(self, user):\n",
    "        pass\n",
    "    def find(self, username):\n",
    "        pass\n",
    "    def update(self, user):\n",
    "        pass\n",
    "    def list_all(self):\n",
    "        pass"
   ]
  },
  {
   "cell_type": "code",
   "execution_count": 45,
   "metadata": {},
   "outputs": [],
   "source": [
    "# Step 2\n",
    "# Examples of input/output\n",
    "Michael = User('Michael', 'Michael Scott', 'MichaelScott@DunderMifflin.com')\n",
    "Jim = User('Jim', 'Jim Halpert', 'JimHalpert@DunderMifflin.com')\n",
    "Pam = User('Pam', 'Pam Beesly', 'PamBeesly@DunderMifflin.com')\n",
    "Dwight = User('Dwight', 'Dwight Schrute', 'DwightSchrute@DunderMifflin.com')\n",
    "Oscar = User('Oscar', 'Oscar Martinez', 'OscarMartinez@DunderMifflin.com')\n",
    "Phyllis = User('Phyllis', 'Phyllis Vance', 'PhyllisVance@DunderMifflin.com')\n",
    "Angela = User('Angela', 'Angela Martin', 'AngelaMartin@DunderMifflin.com')\n",
    "Kevin = User('Kevin', 'Kevin Malone', 'KevinMalone@DunderMifflin.com')\n",
    "Kelly = User('Kelly', 'Kelly Kapoor', 'KellyKapoor@DunderMifflin.com')\n",
    "Creed = User('Creed', 'Creed Bratton', 'CreedBratton@DunderMifflin.com')\n",
    "Stanley = User('Stanley', 'Stanley Hudson', 'StanleyHudson@DunderMifflin.com')\n",
    "Ryan = User('Ryan', 'Ryan Howard', 'RyanHoward@DunderMifflin.com')\n",
    "Toby = User('Toby', 'Toby Flenderson', 'TobyFlenderson@DunderMifflin.com')"
   ]
  },
  {
   "cell_type": "code",
   "execution_count": 46,
   "metadata": {},
   "outputs": [],
   "source": [
    "# Step 2\n",
    "users = [Creed, Jim, Kevin, Oscar, Pam, Ryan, Toby]"
   ]
  },
  {
   "cell_type": "code",
   "execution_count": 47,
   "metadata": {},
   "outputs": [
    {
     "data": {
      "text/plain": [
       "('Oscar', 'OscarMartinez@DunderMifflin.com')"
      ]
     },
     "execution_count": 47,
     "metadata": {},
     "output_type": "execute_result"
    }
   ],
   "source": [
    "# Step 2\n",
    "Oscar.username, Oscar.email"
   ]
  },
  {
   "cell_type": "code",
   "execution_count": 48,
   "metadata": {},
   "outputs": [
    {
     "name": "stdout",
     "output_type": "stream",
     "text": [
      "User(username = 'Oscar', name = 'Oscar Martinez', email = 'OscarMartinez@DunderMifflin.com'\n"
     ]
    }
   ],
   "source": [
    "# Step 2\n",
    "print(Oscar)"
   ]
  },
  {
   "cell_type": "code",
   "execution_count": 49,
   "metadata": {},
   "outputs": [
    {
     "data": {
      "text/plain": [
       "[User(username = 'Creed', name = 'Creed Bratton', email = 'CreedBratton@DunderMifflin.com',\n",
       " User(username = 'Jim', name = 'Jim Halpert', email = 'JimHalpert@DunderMifflin.com',\n",
       " User(username = 'Kevin', name = 'Kevin Malone', email = 'KevinMalone@DunderMifflin.com',\n",
       " User(username = 'Oscar', name = 'Oscar Martinez', email = 'OscarMartinez@DunderMifflin.com',\n",
       " User(username = 'Pam', name = 'Pam Beesly', email = 'PamBeesly@DunderMifflin.com',\n",
       " User(username = 'Ryan', name = 'Ryan Howard', email = 'RyanHoward@DunderMifflin.com',\n",
       " User(username = 'Toby', name = 'Toby Flenderson', email = 'TobyFlenderson@DunderMifflin.com']"
      ]
     },
     "execution_count": 49,
     "metadata": {},
     "output_type": "execute_result"
    }
   ],
   "source": [
    "# Step 2\n",
    "users"
   ]
  },
  {
   "cell_type": "code",
   "execution_count": 50,
   "metadata": {},
   "outputs": [
    {
     "data": {
      "text/plain": [
       "'OscarMartinez@DunderMifflin.com'"
      ]
     },
     "execution_count": 50,
     "metadata": {},
     "output_type": "execute_result"
    }
   ],
   "source": [
    "# Step 2\n",
    "# Using dot notation to find specific details\n",
    "Oscar.email"
   ]
  },
  {
   "cell_type": "code",
   "execution_count": 51,
   "metadata": {},
   "outputs": [
    {
     "data": {
      "text/plain": [
       "False"
      ]
     },
     "execution_count": 51,
     "metadata": {},
     "output_type": "execute_result"
    }
   ],
   "source": [
    "# Step 3\n",
    "'Pam' < 'Angela'"
   ]
  },
  {
   "cell_type": "code",
   "execution_count": 52,
   "metadata": {},
   "outputs": [
    {
     "data": {
      "text/plain": [
       "True"
      ]
     },
     "execution_count": 52,
     "metadata": {},
     "output_type": "execute_result"
    }
   ],
   "source": [
    "# Step 3\n",
    "'Pam' == 'Pam'"
   ]
  },
  {
   "cell_type": "code",
   "execution_count": 53,
   "metadata": {},
   "outputs": [],
   "source": [
    "# Step 4\n",
    "class UserDatabase:\n",
    "    def __init__(self):\n",
    "        self.users = []\n",
    "        \n",
    "    def insert(self, user):\n",
    "        i = 0 \n",
    "        while i < len(self.users):\n",
    "            # find the first username > the new user's username\n",
    "            if self.users[i].username > user.username:\n",
    "                break\n",
    "            i += 1\n",
    "        self.users.insert(i, user)\n",
    "        \n",
    "    def find(self, username):\n",
    "        for user in self.users:\n",
    "            if user.username == username:\n",
    "                return user\n",
    "            \n",
    "    def update(self, user):\n",
    "        target = self.find(user.username)\n",
    "        target.name, target.email = user.name, user.email\n",
    "        \n",
    "    def list_all(self):\n",
    "        return self.users"
   ]
  },
  {
   "cell_type": "code",
   "execution_count": 54,
   "metadata": {},
   "outputs": [],
   "source": [
    "# Step 4\n",
    "db = UserDatabase()"
   ]
  },
  {
   "cell_type": "code",
   "execution_count": 55,
   "metadata": {},
   "outputs": [],
   "source": [
    "# Step 4\n",
    "db.insert(Jim)\n",
    "db.insert(Pam)\n",
    "db.insert(Dwight)\n",
    "db.insert(Angela)\n",
    "db.insert(Oscar)\n",
    "db.insert(Kevin)\n",
    "db.insert(Michael)\n",
    "db.insert(Phyllis)\n",
    "db.insert(Creed)\n",
    "db.insert(Stanley)\n",
    "db.insert(Ryan)\n",
    "db.insert(Toby)"
   ]
  },
  {
   "cell_type": "code",
   "execution_count": 56,
   "metadata": {},
   "outputs": [
    {
     "data": {
      "text/plain": [
       "User(username = 'Pam', name = 'Pam Beesly', email = 'PamBeesly@DunderMifflin.com'"
      ]
     },
     "execution_count": 56,
     "metadata": {},
     "output_type": "execute_result"
    }
   ],
   "source": [
    "# Step 4\n",
    "user = db.find('Pam')\n",
    "user"
   ]
  },
  {
   "cell_type": "code",
   "execution_count": 57,
   "metadata": {},
   "outputs": [],
   "source": [
    "# Step 4\n",
    "#User(username = 'Pam', name = 'Pam Beesly', email = 'PamBeesly@DunderMifflin.com'\n",
    "db.update(User(username = 'Pam', name = 'Pam Halpert', email = 'PamBeesly@DunderMifflin.com'))"
   ]
  },
  {
   "cell_type": "code",
   "execution_count": 58,
   "metadata": {},
   "outputs": [
    {
     "data": {
      "text/plain": [
       "User(username = 'Pam', name = 'Pam Halpert', email = 'PamBeesly@DunderMifflin.com'"
      ]
     },
     "execution_count": 58,
     "metadata": {},
     "output_type": "execute_result"
    }
   ],
   "source": [
    "# Step 4\n",
    "user = db.find('Pam')\n",
    "user"
   ]
  },
  {
   "cell_type": "code",
   "execution_count": 59,
   "metadata": {},
   "outputs": [
    {
     "data": {
      "text/plain": [
       "[User(username = 'Angela', name = 'Angela Martin', email = 'AngelaMartin@DunderMifflin.com',\n",
       " User(username = 'Creed', name = 'Creed Bratton', email = 'CreedBratton@DunderMifflin.com',\n",
       " User(username = 'Dwight', name = 'Dwight Schrute', email = 'DwightSchrute@DunderMifflin.com',\n",
       " User(username = 'Jim', name = 'Jim Halpert', email = 'JimHalpert@DunderMifflin.com',\n",
       " User(username = 'Kevin', name = 'Kevin Malone', email = 'KevinMalone@DunderMifflin.com',\n",
       " User(username = 'Michael', name = 'Michael Scott', email = 'MichaelScott@DunderMifflin.com',\n",
       " User(username = 'Oscar', name = 'Oscar Martinez', email = 'OscarMartinez@DunderMifflin.com',\n",
       " User(username = 'Pam', name = 'Pam Halpert', email = 'PamBeesly@DunderMifflin.com',\n",
       " User(username = 'Phyllis', name = 'Phyllis Vance', email = 'PhyllisVance@DunderMifflin.com',\n",
       " User(username = 'Ryan', name = 'Ryan Howard', email = 'RyanHoward@DunderMifflin.com',\n",
       " User(username = 'Stanley', name = 'Stanley Hudson', email = 'StanleyHudson@DunderMifflin.com',\n",
       " User(username = 'Toby', name = 'Toby Flenderson', email = 'TobyFlenderson@DunderMifflin.com']"
      ]
     },
     "execution_count": 59,
     "metadata": {},
     "output_type": "execute_result"
    }
   ],
   "source": [
    "# Step 4\n",
    "# Retreiving the roster in an alphabetical order\n",
    "db.list_all()"
   ]
  },
  {
   "cell_type": "code",
   "execution_count": 60,
   "metadata": {},
   "outputs": [],
   "source": [
    "# Step 4\n",
    "# Verify whether a new user is inserted into the correct position\n",
    "db.insert(Kelly)"
   ]
  },
  {
   "cell_type": "code",
   "execution_count": 61,
   "metadata": {},
   "outputs": [
    {
     "data": {
      "text/plain": [
       "[User(username = 'Angela', name = 'Angela Martin', email = 'AngelaMartin@DunderMifflin.com',\n",
       " User(username = 'Creed', name = 'Creed Bratton', email = 'CreedBratton@DunderMifflin.com',\n",
       " User(username = 'Dwight', name = 'Dwight Schrute', email = 'DwightSchrute@DunderMifflin.com',\n",
       " User(username = 'Jim', name = 'Jim Halpert', email = 'JimHalpert@DunderMifflin.com',\n",
       " User(username = 'Kelly', name = 'Kelly Kapoor', email = 'KellyKapoor@DunderMifflin.com',\n",
       " User(username = 'Kevin', name = 'Kevin Malone', email = 'KevinMalone@DunderMifflin.com',\n",
       " User(username = 'Michael', name = 'Michael Scott', email = 'MichaelScott@DunderMifflin.com',\n",
       " User(username = 'Oscar', name = 'Oscar Martinez', email = 'OscarMartinez@DunderMifflin.com',\n",
       " User(username = 'Pam', name = 'Pam Halpert', email = 'PamBeesly@DunderMifflin.com',\n",
       " User(username = 'Phyllis', name = 'Phyllis Vance', email = 'PhyllisVance@DunderMifflin.com',\n",
       " User(username = 'Ryan', name = 'Ryan Howard', email = 'RyanHoward@DunderMifflin.com',\n",
       " User(username = 'Stanley', name = 'Stanley Hudson', email = 'StanleyHudson@DunderMifflin.com',\n",
       " User(username = 'Toby', name = 'Toby Flenderson', email = 'TobyFlenderson@DunderMifflin.com']"
      ]
     },
     "execution_count": 61,
     "metadata": {},
     "output_type": "execute_result"
    }
   ],
   "source": [
    "# Step 4\n",
    "# Retreiving the roster again to see if Kelly shows up\n",
    "# We expect Kelly to come after Jim\n",
    "db.list_all()"
   ]
  },
  {
   "cell_type": "code",
   "execution_count": 62,
   "metadata": {},
   "outputs": [],
   "source": [
    "# Step 5\n",
    "# How long does it take to loop 100M numbers using for or while loop?\n",
    "import timeit\n",
    "%timeit\n",
    "\n",
    "for i in range(100000000):\n",
    "    j = i*i\n",
    "# Ok it looks the for loop takes ~ 8 seconds to execute"
   ]
  },
  {
   "cell_type": "code",
   "execution_count": 63,
   "metadata": {},
   "outputs": [
    {
     "name": "stdout",
     "output_type": "stream",
     "text": [
      "100 M reached, i =  100000000\n"
     ]
    }
   ],
   "source": [
    "# Step 5\n",
    "# How long does it take to loop 100M numbers using for or while loop?\n",
    "import timeit\n",
    "%timeit\n",
    "\n",
    "while i < 100000000:\n",
    "    i += 1\n",
    "else:\n",
    "    print('100 M reached, i = ', i)\n",
    "# Ok it looks like the while loop takes less than a second to execute"
   ]
  },
  {
   "cell_type": "code",
   "execution_count": 64,
   "metadata": {},
   "outputs": [],
   "source": [
    "# Step 6\n",
    "# Implementing the binary tree\n",
    "# A simple class representing a node withihn a binary tree\n",
    "class TreeNode:\n",
    "    def __init__(self, key):\n",
    "        self.key = key\n",
    "        self.left = None\n",
    "        self.right = None\n"
   ]
  },
  {
   "cell_type": "code",
   "execution_count": 65,
   "metadata": {},
   "outputs": [],
   "source": [
    "# Step 6\n",
    "# Objects representing each node of the tree created above\n",
    "node0 = TreeNode(3)\n",
    "node1 = TreeNode(4)\n",
    "node2 = TreeNode(5)"
   ]
  },
  {
   "cell_type": "code",
   "execution_count": 66,
   "metadata": {},
   "outputs": [
    {
     "data": {
      "text/plain": [
       "3"
      ]
     },
     "execution_count": 66,
     "metadata": {},
     "output_type": "execute_result"
    }
   ],
   "source": [
    "# Step 6\n",
    "# Verifying node0 is an object of the type TreeNode and has proeprty key set to 3\n",
    "node0\n",
    "node0.key"
   ]
  },
  {
   "cell_type": "code",
   "execution_count": 67,
   "metadata": {},
   "outputs": [],
   "source": [
    "# Step 6\n",
    "# Connect the nodes by setting the left and right properties of the root node (node0)\n",
    "node0.left = node1\n",
    "node0.right = node2"
   ]
  },
  {
   "cell_type": "code",
   "execution_count": 68,
   "metadata": {},
   "outputs": [],
   "source": [
    "# Step 6\n",
    "# Draw the three please\n",
    "tree = node0 # root"
   ]
  },
  {
   "cell_type": "code",
   "execution_count": 69,
   "metadata": {},
   "outputs": [
    {
     "data": {
      "text/plain": [
       "3"
      ]
     },
     "execution_count": 69,
     "metadata": {},
     "output_type": "execute_result"
    }
   ],
   "source": [
    "# Step 6\n",
    "tree.key"
   ]
  },
  {
   "cell_type": "code",
   "execution_count": 70,
   "metadata": {},
   "outputs": [
    {
     "data": {
      "text/plain": [
       "4"
      ]
     },
     "execution_count": 70,
     "metadata": {},
     "output_type": "execute_result"
    }
   ],
   "source": [
    "# Step 6\n",
    "tree.left.key"
   ]
  },
  {
   "cell_type": "code",
   "execution_count": 71,
   "metadata": {},
   "outputs": [
    {
     "data": {
      "text/plain": [
       "5"
      ]
     },
     "execution_count": 71,
     "metadata": {},
     "output_type": "execute_result"
    }
   ],
   "source": [
    "# Step 6\n",
    "tree.right.key"
   ]
  },
  {
   "cell_type": "code",
   "execution_count": 72,
   "metadata": {},
   "outputs": [],
   "source": [
    "# Step 6\n",
    "tree_tuple = ((1, 3, None), 2, ((None, 3, 4), 5, (6, 7, 8)))"
   ]
  },
  {
   "cell_type": "code",
   "execution_count": 73,
   "metadata": {},
   "outputs": [
    {
     "data": {
      "text/plain": [
       "'\\nThe parse_tuple creats a new root ndoe when a tuple of size 3is the input. \\nTo create the left and right subtrees for the node, the parse_tuple function invokes itself.\\nThis technique is called recursion.\\nThe chain of recursive calls end when parse_tuple encournts a number of None as the input.\\n\\n'"
      ]
     },
     "execution_count": 73,
     "metadata": {},
     "output_type": "execute_result"
    }
   ],
   "source": [
    "# Step 6\n",
    "def parse_tuple(data):\n",
    "    print(data)\n",
    "    if isinstance(data, tuple) and len(data) ==3:\n",
    "        node = TreeNode(data[1])\n",
    "        node.left = parse_tuple(data[0])\n",
    "        node.right = parse_tuple(data[2])\n",
    "    elif data is None:\n",
    "        node = None\n",
    "    else:\n",
    "        node = TreeNode(data)\n",
    "    return node\n",
    "\n",
    "\"\"\"\n",
    "The parse_tuple creats a new root ndoe when a tuple of size 3is the input. \n",
    "To create the left and right subtrees for the node, the parse_tuple function invokes itself.\n",
    "This technique is called recursion.\n",
    "The chain of recursive calls end when parse_tuple encournts a number of None as the input.\n",
    "\n",
    "\"\"\""
   ]
  },
  {
   "cell_type": "code",
   "execution_count": 74,
   "metadata": {},
   "outputs": [
    {
     "name": "stdout",
     "output_type": "stream",
     "text": [
      "((1, 3, None), 2, ((None, 3, 4), 5, (6, 7, 8)))\n",
      "(1, 3, None)\n",
      "1\n",
      "None\n",
      "((None, 3, 4), 5, (6, 7, 8))\n",
      "(None, 3, 4)\n",
      "None\n",
      "4\n",
      "(6, 7, 8)\n",
      "6\n",
      "8\n"
     ]
    }
   ],
   "source": [
    "# Step 6\n",
    "tree2 = parse_tuple(((1, 3, None), 2, ((None, 3, 4), 5, (6, 7, 8))))"
   ]
  },
  {
   "cell_type": "code",
   "execution_count": 75,
   "metadata": {},
   "outputs": [
    {
     "data": {
      "text/plain": [
       "<__main__.TreeNode at 0x1cbab8eb970>"
      ]
     },
     "execution_count": 75,
     "metadata": {},
     "output_type": "execute_result"
    }
   ],
   "source": [
    "# Step 6\n",
    "# Draw root tree and subtrees\n",
    "tree2"
   ]
  },
  {
   "cell_type": "code",
   "execution_count": 76,
   "metadata": {},
   "outputs": [
    {
     "data": {
      "text/plain": [
       "2"
      ]
     },
     "execution_count": 76,
     "metadata": {},
     "output_type": "execute_result"
    }
   ],
   "source": [
    "# Step 6\n",
    "# depth 0\n",
    "tree2.key"
   ]
  },
  {
   "cell_type": "code",
   "execution_count": 77,
   "metadata": {},
   "outputs": [
    {
     "data": {
      "text/plain": [
       "(3, 5)"
      ]
     },
     "execution_count": 77,
     "metadata": {},
     "output_type": "execute_result"
    }
   ],
   "source": [
    "# Step 6\n",
    "# depth 1\n",
    "tree2.left.key, tree2.right.key"
   ]
  },
  {
   "cell_type": "code",
   "execution_count": 78,
   "metadata": {},
   "outputs": [
    {
     "data": {
      "text/plain": [
       "(1, None, 3, 7)"
      ]
     },
     "execution_count": 78,
     "metadata": {},
     "output_type": "execute_result"
    }
   ],
   "source": [
    "# Step 6\n",
    "# depth 2\n",
    "tree2.left.left.key, tree2.left.right, tree2.right.left.key, tree2.right.right.key"
   ]
  },
  {
   "cell_type": "code",
   "execution_count": 79,
   "metadata": {},
   "outputs": [
    {
     "data": {
      "text/plain": [
       "(4, 6, 8)"
      ]
     },
     "execution_count": 79,
     "metadata": {},
     "output_type": "execute_result"
    }
   ],
   "source": [
    "# Step 6\n",
    "# depth 3\n",
    "tree2.right.left.right.key, tree2.right.right.left.key, tree2.right.right.right.key"
   ]
  },
  {
   "cell_type": "code",
   "execution_count": 80,
   "metadata": {},
   "outputs": [],
   "source": [
    "# Step 6\n",
    "def tree_to_tuple(node):\n",
    "    pass"
   ]
  },
  {
   "cell_type": "code",
   "execution_count": 81,
   "metadata": {},
   "outputs": [],
   "source": [
    "# Step 6\n",
    "# Create another helper function to display all the keys in a three-like structure\n",
    "def display_keys(node, space ='\\t', level = 0):\n",
    "    #print(node.key if node else None, level)\n",
    "    # if node is empty\n",
    "    if node is None:\n",
    "        print(space*level + 'Ø') #press down the Alt key and type 0216 using the numeric keys\n",
    "        return\n",
    "    # if node is a leaf\n",
    "    if node.left is None and node.right is None:\n",
    "        print(space*level + str(node.key))\n",
    "        return\n",
    "    # if ndoe has children\n",
    "    display_keys(node.right, space, level + 1)\n",
    "    print(space*level + str(node.key))\n",
    "    display_keys(node.left, space, level+1)"
   ]
  },
  {
   "cell_type": "code",
   "execution_count": 82,
   "metadata": {},
   "outputs": [
    {
     "name": "stdout",
     "output_type": "stream",
     "text": [
      "         8\n",
      "      7\n",
      "         6\n",
      "   5\n",
      "         4\n",
      "      3\n",
      "         Ø\n",
      "2\n",
      "      Ø\n",
      "   3\n",
      "      1\n"
     ]
    }
   ],
   "source": [
    "# Step 6\n",
    "display_keys(tree2, '   ')\n",
    "# Check out https://excalidraw.com/ -- it's like a digital whiteboard"
   ]
  },
  {
   "cell_type": "code",
   "execution_count": 83,
   "metadata": {},
   "outputs": [],
   "source": [
    "# Step 6\n",
    "# In order traverse\n",
    "def traverser_in_order(node):\n",
    "    if node is None:\n",
    "        return []\n",
    "    return(traverser_in_order(node.left) + [node.key] + traverser_in_order(node.right))"
   ]
  },
  {
   "cell_type": "code",
   "execution_count": 84,
   "metadata": {},
   "outputs": [
    {
     "name": "stdout",
     "output_type": "stream",
     "text": [
      "((1, 3, None), 2, ((None, 3, 4), 5, (6, 7, 8)))\n",
      "(1, 3, None)\n",
      "1\n",
      "None\n",
      "((None, 3, 4), 5, (6, 7, 8))\n",
      "(None, 3, 4)\n",
      "None\n",
      "4\n",
      "(6, 7, 8)\n",
      "6\n",
      "8\n"
     ]
    }
   ],
   "source": [
    "# Step 6\n",
    "tree3 = parse_tuple(((1, 3, None), 2, ((None, 3, 4), 5, (6, 7, 8))))"
   ]
  },
  {
   "cell_type": "code",
   "execution_count": 85,
   "metadata": {},
   "outputs": [
    {
     "name": "stdout",
     "output_type": "stream",
     "text": [
      "         8\n",
      "      7\n",
      "         6\n",
      "   5\n",
      "         4\n",
      "      3\n",
      "         Ø\n",
      "2\n",
      "      Ø\n",
      "   3\n",
      "      1\n"
     ]
    }
   ],
   "source": [
    "# Step 6\n",
    "display_keys(tree3, '   ')"
   ]
  },
  {
   "cell_type": "code",
   "execution_count": 86,
   "metadata": {},
   "outputs": [
    {
     "data": {
      "text/plain": [
       "[1, 3, 2, 3, 4, 5, 6, 7, 8]"
      ]
     },
     "execution_count": 86,
     "metadata": {},
     "output_type": "execute_result"
    }
   ],
   "source": [
    "# Step 6\n",
    "traverser_in_order(tree3)"
   ]
  },
  {
   "cell_type": "code",
   "execution_count": 87,
   "metadata": {},
   "outputs": [
    {
     "data": {
      "text/plain": [
       "2"
      ]
     },
     "execution_count": 87,
     "metadata": {},
     "output_type": "execute_result"
    }
   ],
   "source": [
    "# Height/depth and size of a binary tree\n",
    "# 1. Write a function to calculate the heigh/depth of a binary tree.\n",
    "def tree_height(node):\n",
    "    if node is None:\n",
    "        return 0\n",
    "    return 1 + max(tree_height(node.left), tree_height(node.right))\n",
    "tree_height(tree) # expected output: 4 (layers or generations)"
   ]
  },
  {
   "cell_type": "code",
   "execution_count": 88,
   "metadata": {},
   "outputs": [
    {
     "data": {
      "text/plain": [
       "3"
      ]
     },
     "execution_count": 88,
     "metadata": {},
     "output_type": "execute_result"
    }
   ],
   "source": [
    "# Height/depth and size of a binary tree\n",
    "# 2. Write a function to count the number of nodes in a binary tree.\n",
    "def tree_size(node):\n",
    "    if node is None:\n",
    "        return 0\n",
    "    return 1 + tree_size(node.left) + tree_size(node.right) # 1 + size of left sub tree + size of right sub tree\n",
    "tree_size(tree) # expected output: 9 (elements or circles)"
   ]
  },
  {
   "cell_type": "code",
   "execution_count": 89,
   "metadata": {},
   "outputs": [],
   "source": [
    "# All together!\n",
    "# Using the encapsulation method which contains relevant data and functionality within the same class. \n",
    "# This is a good programming pracctice.\n",
    "\n",
    "class TreeNode:\n",
    "    def __init__(self, key):                                    # relevant data\n",
    "        self.key, self.left, self.right = key, None, None\n",
    "        \n",
    "    def height(self):                                                                       # function\n",
    "        if self is None:\n",
    "            return 0\n",
    "        return 1 + max(TreeNode.height(self.left), TreeNode.height(self.right))\n",
    "    \n",
    "    def size(self):                                                                       # function\n",
    "        if self is None:\n",
    "            return 0\n",
    "        return 1 + TreeNode.size(self.left) + TreeNode.size(self.right)\n",
    "    \n",
    "    def traverser_in_order(self):                                                            # function\n",
    "        if self is None:\n",
    "            return []\n",
    "        return (TreeNode.traverser_in_order(self.left) + \n",
    "                [self.key] + \n",
    "                TreeNode.traverser_in_order(self.right))\n",
    "    \n",
    "    def display_keys(self, space = '\\t', level = 0):\n",
    "        #if node is empty\n",
    "        if self is None:\n",
    "            print(space*level + 'Ø') # press down the Alt key and type 0216 using the numeric keys\n",
    "            return\n",
    "    \n",
    "    def to_tuple(self):\n",
    "        if self is None:\n",
    "            return None\n",
    "        if self.left is None and self.right is None:\n",
    "            return self.key\n",
    "        return TreeNode.to_tuple(self.left), self.key, TreeNode.to_tuple(self.right), self.key\n",
    "    \n",
    "    def __str__(self):\n",
    "        return \"Binary Tree <{}>\".format(self.to_tuple())\n",
    "    \n",
    "    def __repr__(self):\n",
    "        return \"Binary Tree <{}>\".format(self.to_tuple())\n",
    "    \n",
    "    @staticmethod\n",
    "    def parse_tuple(data):\n",
    "        if data is None:\n",
    "            node = None\n",
    "        elif isinstance(data, tuple) and len(data) == 3:\n",
    "            node = TreeNode(data[1])\n",
    "            node.left = TreeNode.parse_tuple(data[0])\n",
    "            node.right = TreeNode.parse_tuple(data[2])\n",
    "        else:\n",
    "            node = TreeNode(data)\n",
    "        return node"
   ]
  },
  {
   "cell_type": "code",
   "execution_count": 90,
   "metadata": {},
   "outputs": [
    {
     "data": {
      "text/plain": [
       "((1, 3, None), 2, ((None, 3, 4), 5, (6, 7, 8)))"
      ]
     },
     "execution_count": 90,
     "metadata": {},
     "output_type": "execute_result"
    }
   ],
   "source": [
    "tree_tuple"
   ]
  },
  {
   "cell_type": "code",
   "execution_count": 91,
   "metadata": {},
   "outputs": [],
   "source": [
    "tree = TreeNode.parse_tuple(tree_tuple)"
   ]
  },
  {
   "cell_type": "code",
   "execution_count": 92,
   "metadata": {},
   "outputs": [
    {
     "data": {
      "text/plain": [
       "Binary Tree <((1, 3, None, 3), 2, ((None, 3, 4, 3), 5, (6, 7, 8, 7), 5), 2)>"
      ]
     },
     "execution_count": 92,
     "metadata": {},
     "output_type": "execute_result"
    }
   ],
   "source": [
    "tree"
   ]
  },
  {
   "cell_type": "code",
   "execution_count": 93,
   "metadata": {},
   "outputs": [
    {
     "name": "stdout",
     "output_type": "stream",
     "text": [
      "         8\n",
      "      7\n",
      "         6\n",
      "   5\n",
      "         4\n",
      "      3\n",
      "         Ø\n",
      "2\n",
      "      Ø\n",
      "   3\n",
      "      1\n"
     ]
    }
   ],
   "source": [
    "display_keys(tree, '   ')"
   ]
  },
  {
   "cell_type": "code",
   "execution_count": 94,
   "metadata": {},
   "outputs": [
    {
     "data": {
      "text/plain": [
       "4"
      ]
     },
     "execution_count": 94,
     "metadata": {},
     "output_type": "execute_result"
    }
   ],
   "source": [
    "tree.height() # expected output: 4"
   ]
  },
  {
   "cell_type": "code",
   "execution_count": 95,
   "metadata": {},
   "outputs": [
    {
     "data": {
      "text/plain": [
       "9"
      ]
     },
     "execution_count": 95,
     "metadata": {},
     "output_type": "execute_result"
    }
   ],
   "source": [
    "tree.size() # expected output: 9"
   ]
  },
  {
   "cell_type": "code",
   "execution_count": 96,
   "metadata": {},
   "outputs": [
    {
     "data": {
      "text/plain": [
       "[1, 3, 2, 3, 4, 5, 6, 7, 8]"
      ]
     },
     "execution_count": 96,
     "metadata": {},
     "output_type": "execute_result"
    }
   ],
   "source": [
    "tree.traverser_in_order()"
   ]
  },
  {
   "cell_type": "code",
   "execution_count": 97,
   "metadata": {},
   "outputs": [
    {
     "data": {
      "text/plain": [
       "((1, 3, None, 3), 2, ((None, 3, 4, 3), 5, (6, 7, 8, 7), 5), 2)"
      ]
     },
     "execution_count": 97,
     "metadata": {},
     "output_type": "execute_result"
    }
   ],
   "source": [
    "tree.to_tuple()"
   ]
  },
  {
   "cell_type": "code",
   "execution_count": 98,
   "metadata": {},
   "outputs": [
    {
     "data": {
      "text/plain": [
       "\"     \\nBinary Search Tree (BST)\\nCharacteristics of BST\\n    a. The left subtree of any node only contains nodes with keys less than the node's key\\n    b. The right subtree of any node only contains nodes with keys greater than the node's key\\n\\n1. Write a function to check if a binary tree is a BST.\\n2. Write a function to find the maximum key in a binary tree.\\n3. Write a function to find the minimum key in a binary tree.\\n\\n\""
      ]
     },
     "execution_count": 98,
     "metadata": {},
     "output_type": "execute_result"
    }
   ],
   "source": [
    "\"\"\"     \n",
    "Binary Search Tree (BST)\n",
    "Characteristics of BST\n",
    "    a. The left subtree of any node only contains nodes with keys less than the node's key\n",
    "    b. The right subtree of any node only contains nodes with keys greater than the node's key\n",
    "\n",
    "1. Write a function to check if a binary tree is a BST.\n",
    "2. Write a function to find the maximum key in a binary tree.\n",
    "3. Write a function to find the minimum key in a binary tree.\n",
    "\n",
    "\"\"\""
   ]
  },
  {
   "cell_type": "code",
   "execution_count": 99,
   "metadata": {},
   "outputs": [],
   "source": [
    "def remove_none(nums):\n",
    "    return [x for x in nums if x is not None]\n",
    "\n",
    "def is_bst(node):\n",
    "    if node is None:\n",
    "        return True, None, None\n",
    "    \n",
    "    is_bst_l, min_l, max_l = is_bst(node.left)\n",
    "    is_bst_r, min_r, max_r = is_bst(node.right)\n",
    "    \n",
    "    is_bst_node = (is_bst_l and is_bst_r\n",
    "                and (max_l is None or node.key > max_l)\n",
    "                and (max_r is None or node.key < min_r))\n",
    "    \n",
    "    min_key = min(remove_none([min_l, node.key, min_r]))\n",
    "    max_key = max(remove_none([max_l, node.key, max_r]))\n",
    "    #print(node.key, min_key, max_key, is_bst_node)\n",
    "    \n",
    "    return is_bst_node, min_key, max_key # whether is a BST, min key, max key"
   ]
  },
  {
   "cell_type": "code",
   "execution_count": 100,
   "metadata": {},
   "outputs": [],
   "source": [
    "tree_a = TreeNode.parse_tuple(((1, 3, None), 2, ((None, 3, 4), 5, (6, 7, 8))))"
   ]
  },
  {
   "cell_type": "code",
   "execution_count": 101,
   "metadata": {},
   "outputs": [
    {
     "name": "stdout",
     "output_type": "stream",
     "text": [
      "\t\t\t8\n",
      "\t\t7\n",
      "\t\t\t6\n",
      "\t5\n",
      "\t\t\t4\n",
      "\t\t3\n",
      "\t\t\tØ\n",
      "2\n",
      "\t\tØ\n",
      "\t3\n",
      "\t\t1\n"
     ]
    }
   ],
   "source": [
    "display_keys(tree_a)"
   ]
  },
  {
   "cell_type": "code",
   "execution_count": 102,
   "metadata": {},
   "outputs": [
    {
     "data": {
      "text/plain": [
       "(False, 1, 8)"
      ]
     },
     "execution_count": 102,
     "metadata": {},
     "output_type": "execute_result"
    }
   ],
   "source": [
    "is_bst(tree_a)"
   ]
  },
  {
   "cell_type": "code",
   "execution_count": 103,
   "metadata": {},
   "outputs": [],
   "source": [
    "tree_b = TreeNode.parse_tuple((('Creed', 'Jim', 'Kevin'), 'Oscar', ('Pam', 'Ryan', 'Toby')))"
   ]
  },
  {
   "cell_type": "code",
   "execution_count": 104,
   "metadata": {},
   "outputs": [
    {
     "name": "stdout",
     "output_type": "stream",
     "text": [
      "\t\tToby\n",
      "\tRyan\n",
      "\t\tPam\n",
      "Oscar\n",
      "\t\tKevin\n",
      "\tJim\n",
      "\t\tCreed\n"
     ]
    }
   ],
   "source": [
    "display_keys(tree_b)"
   ]
  },
  {
   "cell_type": "code",
   "execution_count": 105,
   "metadata": {},
   "outputs": [
    {
     "data": {
      "text/plain": [
       "(True, 'Creed', 'Toby')"
      ]
     },
     "execution_count": 105,
     "metadata": {},
     "output_type": "execute_result"
    }
   ],
   "source": [
    "is_bst(tree_b)"
   ]
  },
  {
   "cell_type": "code",
   "execution_count": 106,
   "metadata": {},
   "outputs": [],
   "source": [
    "# Storing key value pairs using BSTs\n",
    "\n",
    "class BSTNode():\n",
    "    def __init__(self, key, value = None):\n",
    "        self.key = key\n",
    "        self.value = value\n",
    "        self.left = None\n",
    "        self.right = None\n",
    "        self.parent = None"
   ]
  },
  {
   "cell_type": "code",
   "execution_count": 107,
   "metadata": {},
   "outputs": [],
   "source": [
    "# level 0\n",
    "tree = BSTNode(Oscar.username, Oscar)"
   ]
  },
  {
   "cell_type": "code",
   "execution_count": 108,
   "metadata": {},
   "outputs": [
    {
     "data": {
      "text/plain": [
       "('Oscar',\n",
       " User(username = 'Oscar', name = 'Oscar Martinez', email = 'OscarMartinez@DunderMifflin.com')"
      ]
     },
     "execution_count": 108,
     "metadata": {},
     "output_type": "execute_result"
    }
   ],
   "source": [
    "# level 0\n",
    "tree.key, tree.value"
   ]
  },
  {
   "cell_type": "code",
   "execution_count": 109,
   "metadata": {},
   "outputs": [],
   "source": [
    "# level 1\n",
    "tree.left = BSTNode(Kevin.username, Kevin)\n",
    "tree.left.parent = tree\n",
    "tree.right = BSTNode(Ryan.username, Ryan)\n",
    "tree.right.parent = tree"
   ]
  },
  {
   "cell_type": "code",
   "execution_count": 110,
   "metadata": {},
   "outputs": [
    {
     "data": {
      "text/plain": [
       "('Kevin',\n",
       " User(username = 'Kevin', name = 'Kevin Malone', email = 'KevinMalone@DunderMifflin.com',\n",
       " 'Ryan',\n",
       " User(username = 'Ryan', name = 'Ryan Howard', email = 'RyanHoward@DunderMifflin.com')"
      ]
     },
     "execution_count": 110,
     "metadata": {},
     "output_type": "execute_result"
    }
   ],
   "source": [
    "# level 1\n",
    "tree.left.key, tree.left.value, tree.right.key, tree.right.value"
   ]
  },
  {
   "cell_type": "code",
   "execution_count": 111,
   "metadata": {},
   "outputs": [
    {
     "name": "stdout",
     "output_type": "stream",
     "text": [
      "\tRyan\n",
      "Oscar\n",
      "\tKevin\n"
     ]
    }
   ],
   "source": [
    "display_keys(tree)"
   ]
  },
  {
   "cell_type": "code",
   "execution_count": 112,
   "metadata": {},
   "outputs": [],
   "source": [
    "\"\"\"            \n",
    "Insertiion into BST\n",
    "Instead of using the parse_tuple to explicitly tell where the elements go we can just write the rules for how the elements be placed.\n",
    "        Based on the relationship of the elemetns the rules are:\n",
    "            if there is no node, do nothing\n",
    "            if key is the same as the node key then just build the root node\n",
    "            if the key is smaller than the node key then build left subtree parent\n",
    "            if the key is bigger than the node key then build right subtree parent\n",
    "\"\"\"\n",
    "def insert(node, key, value):\n",
    "    if node is None:\n",
    "        node = BSTNode(key, value)\n",
    "    elif key < node.key:\n",
    "        node.left = insert(node.left, key, value)\n",
    "        node.left.parent = node\n",
    "    elif key > node.key:\n",
    "        node.right = insert(node.right, key, value)\n",
    "        node.right.parent = node\n",
    "    return node\n"
   ]
  },
  {
   "cell_type": "code",
   "execution_count": 113,
   "metadata": {},
   "outputs": [],
   "source": [
    "tree = insert(None, Oscar.username, Oscar)"
   ]
  },
  {
   "cell_type": "code",
   "execution_count": 114,
   "metadata": {},
   "outputs": [
    {
     "data": {
      "text/plain": [
       "('Oscar',\n",
       " User(username = 'Oscar', name = 'Oscar Martinez', email = 'OscarMartinez@DunderMifflin.com')"
      ]
     },
     "execution_count": 114,
     "metadata": {},
     "output_type": "execute_result"
    }
   ],
   "source": [
    "tree.key, tree.value"
   ]
  },
  {
   "cell_type": "code",
   "execution_count": 115,
   "metadata": {},
   "outputs": [
    {
     "data": {
      "text/plain": [
       "<__main__.BSTNode at 0x1cbc445ce20>"
      ]
     },
     "execution_count": 115,
     "metadata": {},
     "output_type": "execute_result"
    }
   ],
   "source": [
    "# Balanced tree\n",
    "insert(tree, Jim.username, Jim)\n",
    "insert(tree, Ryan.username, Ryan)\n",
    "insert(tree, Creed.username, Creed)\n",
    "insert(tree, Kevin.username, Kevin)\n",
    "insert(tree, Pam.username, Pam)\n",
    "insert(tree, Toby.username, Toby)"
   ]
  },
  {
   "cell_type": "code",
   "execution_count": 116,
   "metadata": {},
   "outputs": [
    {
     "name": "stdout",
     "output_type": "stream",
     "text": [
      "\t\tToby\n",
      "\tRyan\n",
      "\t\tPam\n",
      "Oscar\n",
      "\t\tKevin\n",
      "\tJim\n",
      "\t\tCreed\n"
     ]
    }
   ],
   "source": [
    "display_keys(tree)"
   ]
  },
  {
   "cell_type": "code",
   "execution_count": 117,
   "metadata": {},
   "outputs": [
    {
     "data": {
      "text/plain": [
       "<__main__.BSTNode at 0x1cbab8eb8e0>"
      ]
     },
     "execution_count": 117,
     "metadata": {},
     "output_type": "execute_result"
    }
   ],
   "source": [
    "# Unbalanced tree\n",
    "\n",
    "unbalanced_tree = insert(None, Creed.username, Creed)\n",
    "insert(unbalanced_tree, Jim.username, Jim)\n",
    "insert(unbalanced_tree, Kevin.username, Kevin)\n",
    "insert(unbalanced_tree, Oscar.username, Creed)\n",
    "insert(unbalanced_tree, Pam.username, Pam)\n",
    "insert(unbalanced_tree, Ryan.username, Ryan)\n",
    "insert(unbalanced_tree, Toby.username, Toby)"
   ]
  },
  {
   "cell_type": "code",
   "execution_count": 118,
   "metadata": {},
   "outputs": [
    {
     "name": "stdout",
     "output_type": "stream",
     "text": [
      "\t\t\t\t\t\tToby\n",
      "\t\t\t\t\tRyan\n",
      "\t\t\t\t\t\tØ\n",
      "\t\t\t\tPam\n",
      "\t\t\t\t\tØ\n",
      "\t\t\tOscar\n",
      "\t\t\t\tØ\n",
      "\t\tKevin\n",
      "\t\t\tØ\n",
      "\tJim\n",
      "\t\tØ\n",
      "Creed\n",
      "\tØ\n"
     ]
    }
   ],
   "source": [
    "display_keys(unbalanced_tree)"
   ]
  },
  {
   "cell_type": "code",
   "execution_count": 119,
   "metadata": {},
   "outputs": [
    {
     "data": {
      "text/plain": [
       "7"
      ]
     },
     "execution_count": 119,
     "metadata": {},
     "output_type": "execute_result"
    }
   ],
   "source": [
    "tree_height(unbalanced_tree)"
   ]
  },
  {
   "cell_type": "code",
   "execution_count": 120,
   "metadata": {},
   "outputs": [],
   "source": [
    "\"\"\"      \n",
    "Find the value associated with a given key in a BST\n",
    "Based on the key's placement in relationship to the node split left or right subtrees to find what is being requested\n",
    "    if there is no node, do nothing\n",
    "    if key is the same as the node key then just display that\n",
    "    if the key is smaller than the node key then split left and show that key\n",
    "    if the key is bigger than the node key then split right and show that key\n",
    "\"\"\"\n",
    "\n",
    "\n",
    "def find(node,key):\n",
    "    if node is None:\n",
    "        return None\n",
    "    if key == node.key:\n",
    "        return node\n",
    "    if key < node.key:\n",
    "        return find(node.left, key)\n",
    "    if key > node.key:\n",
    "        return find(node.right, key)\n",
    "    "
   ]
  },
  {
   "cell_type": "code",
   "execution_count": 121,
   "metadata": {},
   "outputs": [],
   "source": [
    "node = find(tree, 'Pam')"
   ]
  },
  {
   "cell_type": "code",
   "execution_count": 122,
   "metadata": {},
   "outputs": [
    {
     "data": {
      "text/plain": [
       "('Pam',\n",
       " User(username = 'Pam', name = 'Pam Halpert', email = 'PamBeesly@DunderMifflin.com')"
      ]
     },
     "execution_count": 122,
     "metadata": {},
     "output_type": "execute_result"
    }
   ],
   "source": [
    "node.key, node.value"
   ]
  },
  {
   "cell_type": "code",
   "execution_count": 123,
   "metadata": {},
   "outputs": [
    {
     "name": "stdout",
     "output_type": "stream",
     "text": [
      "None\n"
     ]
    }
   ],
   "source": [
    "node = find(tree, 'Holly')\n",
    "print(node)"
   ]
  },
  {
   "cell_type": "code",
   "execution_count": 124,
   "metadata": {},
   "outputs": [],
   "source": [
    "# Update values in a BST\n",
    "\n",
    "# find pam (or any target), if pam is in the BST then update\n",
    "                            # if not then do nothing\n",
    "\n",
    "def update(node, key, value):\n",
    "    target = find(node,key)\n",
    "    if target is not None:\n",
    "        target.value = value"
   ]
  },
  {
   "cell_type": "code",
   "execution_count": 125,
   "metadata": {},
   "outputs": [],
   "source": [
    "# Changing 'Pam' to 'Pamela' for name and username, leaving email for legacy purposes\n",
    "update(tree, 'Pam', User('Pamela', 'Pamela Halpert', 'PamBeesly@DunderMifflin.com'))"
   ]
  },
  {
   "cell_type": "code",
   "execution_count": 126,
   "metadata": {},
   "outputs": [
    {
     "data": {
      "text/plain": [
       "User(username = 'Pamela', name = 'Pamela Halpert', email = 'PamBeesly@DunderMifflin.com'"
      ]
     },
     "execution_count": 126,
     "metadata": {},
     "output_type": "execute_result"
    }
   ],
   "source": [
    "node = find(tree, 'Pam')\n",
    "node.value"
   ]
  },
  {
   "cell_type": "code",
   "execution_count": 127,
   "metadata": {},
   "outputs": [],
   "source": [
    "# List the Nodes\n",
    "# Write a function to retreive all the key-values pairs stored in a BST in the sorted order of keys.\n",
    "\n",
    "def list_all(node):\n",
    "    if node is None:\n",
    "        return []\n",
    "    return list_all(node.left) + [(node.key, node.value)] + list_all(node.right)"
   ]
  },
  {
   "cell_type": "code",
   "execution_count": 128,
   "metadata": {},
   "outputs": [
    {
     "data": {
      "text/plain": [
       "[('Creed',\n",
       "  User(username = 'Creed', name = 'Creed Bratton', email = 'CreedBratton@DunderMifflin.com'),\n",
       " ('Jim',\n",
       "  User(username = 'Jim', name = 'Jim Halpert', email = 'JimHalpert@DunderMifflin.com'),\n",
       " ('Kevin',\n",
       "  User(username = 'Kevin', name = 'Kevin Malone', email = 'KevinMalone@DunderMifflin.com'),\n",
       " ('Oscar',\n",
       "  User(username = 'Oscar', name = 'Oscar Martinez', email = 'OscarMartinez@DunderMifflin.com'),\n",
       " ('Pam',\n",
       "  User(username = 'Pamela', name = 'Pamela Halpert', email = 'PamBeesly@DunderMifflin.com'),\n",
       " ('Ryan',\n",
       "  User(username = 'Ryan', name = 'Ryan Howard', email = 'RyanHoward@DunderMifflin.com'),\n",
       " ('Toby',\n",
       "  User(username = 'Toby', name = 'Toby Flenderson', email = 'TobyFlenderson@DunderMifflin.com')]"
      ]
     },
     "execution_count": 128,
     "metadata": {},
     "output_type": "execute_result"
    }
   ],
   "source": [
    "list_all(tree)"
   ]
  },
  {
   "cell_type": "code",
   "execution_count": 129,
   "metadata": {},
   "outputs": [],
   "source": [
    "\"\"\"\n",
    "Balanced Binary Trees\n",
    "\n",
    "Write a function to determine if a BT is balanced\n",
    "    Recursive strategy:\n",
    "        - Ensure that the left subtree is balanced\n",
    "        - Ensure that the right subtree is balanced\n",
    "        - Ensure that the difference b/w heights of the left subtree and right subtree is NOT more than 1\n",
    "\"\"\"\n",
    "def is_balanced(node):\n",
    "    if node is None:\n",
    "        return True, 0\n",
    "    \n",
    "    balanced_l, height_l = is_balanced(node.left)\n",
    "    balanced_r, height_r = is_balanced(node.right)\n",
    "    balanced = balanced_l and balanced_r and abs(height_l - height_r) <= 1\n",
    "    height = 1 + max(height_l, height_r)\n",
    "    \n",
    "    return balanced, height"
   ]
  },
  {
   "cell_type": "code",
   "execution_count": 130,
   "metadata": {},
   "outputs": [
    {
     "data": {
      "text/plain": [
       "(True, 3)"
      ]
     },
     "execution_count": 130,
     "metadata": {},
     "output_type": "execute_result"
    }
   ],
   "source": [
    "is_balanced(tree)"
   ]
  },
  {
   "cell_type": "code",
   "execution_count": 131,
   "metadata": {},
   "outputs": [
    {
     "name": "stdout",
     "output_type": "stream",
     "text": [
      "\t\tToby\n",
      "\tRyan\n",
      "\t\tPam\n",
      "Oscar\n",
      "\t\tKevin\n",
      "\tJim\n",
      "\t\tCreed\n"
     ]
    }
   ],
   "source": [
    "display_keys(tree)"
   ]
  },
  {
   "cell_type": "code",
   "execution_count": 132,
   "metadata": {},
   "outputs": [
    {
     "data": {
      "text/plain": [
       "(False, 7)"
      ]
     },
     "execution_count": 132,
     "metadata": {},
     "output_type": "execute_result"
    }
   ],
   "source": [
    "is_balanced(unbalanced_tree)"
   ]
  },
  {
   "cell_type": "code",
   "execution_count": 133,
   "metadata": {},
   "outputs": [
    {
     "name": "stdout",
     "output_type": "stream",
     "text": [
      "\t\t\t\t\t\tToby\n",
      "\t\t\t\t\tRyan\n",
      "\t\t\t\t\t\tØ\n",
      "\t\t\t\tPam\n",
      "\t\t\t\t\tØ\n",
      "\t\t\tOscar\n",
      "\t\t\t\tØ\n",
      "\t\tKevin\n",
      "\t\t\tØ\n",
      "\tJim\n",
      "\t\tØ\n",
      "Creed\n",
      "\tØ\n"
     ]
    }
   ],
   "source": [
    "display_keys(unbalanced_tree)"
   ]
  },
  {
   "cell_type": "code",
   "execution_count": 134,
   "metadata": {},
   "outputs": [],
   "source": [
    "\"\"\"\n",
    "Balanced Binary Search Trees\n",
    "\n",
    "Write a function create a balanced BST from a sorted list/array of key value pairs\n",
    "\n",
    "When using the recursive strategy implemented for determining the balanced BT, turning the middle of the list into the root\n",
    "    and recursibely creating left and right subtrees.\n",
    "    \n",
    "Let's pretend the array is [0, 1, 2 ... 6]\n",
    "    low = 0\n",
    "    high = 6\n",
    "    middle = 3\n",
    "\"\"\"\n",
    "\n",
    "def make_balanced_bst(data, low = 0, high = None, parent = None): # low is set at 0 by default\n",
    "    if high is None:\n",
    "        high = len(data) - 1 # the high is set to the very last element of the array (6)\n",
    "    if low > high:\n",
    "        return None\n",
    "        \n",
    "    mid = (low + high)//2 # the middle element of the array will become the root node (middle of range is 3)\n",
    "    key, value = data[mid] \n",
    "    \n",
    "    root = BSTNode(key,value) # create root node\n",
    "    root.parent = parent\n",
    "    root.left = make_balanced_bst(data, low, mid-1, root) # left child (range 0-2)\n",
    "    root.right = make_balanced_bst(data, mid+1, root) # right child (range 4-6)\n",
    "    \n",
    "    return root"
   ]
  },
  {
   "cell_type": "code",
   "execution_count": 135,
   "metadata": {},
   "outputs": [
    {
     "data": {
      "text/plain": [
       "[('Creed',\n",
       "  User(username = 'Creed', name = 'Creed Bratton', email = 'CreedBratton@DunderMifflin.com'),\n",
       " ('Jim',\n",
       "  User(username = 'Jim', name = 'Jim Halpert', email = 'JimHalpert@DunderMifflin.com'),\n",
       " ('Kevin',\n",
       "  User(username = 'Kevin', name = 'Kevin Malone', email = 'KevinMalone@DunderMifflin.com'),\n",
       " ('Oscar',\n",
       "  User(username = 'Oscar', name = 'Oscar Martinez', email = 'OscarMartinez@DunderMifflin.com'),\n",
       " ('Pam',\n",
       "  User(username = 'Pam', name = 'Pam Halpert', email = 'PamBeesly@DunderMifflin.com'),\n",
       " ('Ryan',\n",
       "  User(username = 'Ryan', name = 'Ryan Howard', email = 'RyanHoward@DunderMifflin.com'),\n",
       " ('Toby',\n",
       "  User(username = 'Toby', name = 'Toby Flenderson', email = 'TobyFlenderson@DunderMifflin.com')]"
      ]
     },
     "execution_count": 135,
     "metadata": {},
     "output_type": "execute_result"
    }
   ],
   "source": [
    "# Display key value pairs\n",
    "data = [(user.username, user) for user in users]\n",
    "data"
   ]
  },
  {
   "cell_type": "code",
   "execution_count": 136,
   "metadata": {},
   "outputs": [],
   "source": [
    "#tree = make_balanced_bst(data)\n",
    "# ERROR: '>' not supported between instances of 'int' and 'BSTNode'"
   ]
  },
  {
   "cell_type": "code",
   "execution_count": 137,
   "metadata": {},
   "outputs": [
    {
     "name": "stdout",
     "output_type": "stream",
     "text": [
      "\t\tToby\n",
      "\tRyan\n",
      "\t\tPam\n",
      "Oscar\n",
      "\t\tKevin\n",
      "\tJim\n",
      "\t\tCreed\n"
     ]
    }
   ],
   "source": [
    "display_keys(tree)"
   ]
  },
  {
   "cell_type": "code",
   "execution_count": 138,
   "metadata": {},
   "outputs": [],
   "source": [
    "tree_c = None\n",
    "for username, user in data:\n",
    "    tree_c = insert(tree_c, username, user)"
   ]
  },
  {
   "cell_type": "code",
   "execution_count": 139,
   "metadata": {},
   "outputs": [
    {
     "name": "stdout",
     "output_type": "stream",
     "text": [
      "\t\t\t\t\t\tToby\n",
      "\t\t\t\t\tRyan\n",
      "\t\t\t\t\t\tØ\n",
      "\t\t\t\tPam\n",
      "\t\t\t\t\tØ\n",
      "\t\t\tOscar\n",
      "\t\t\t\tØ\n",
      "\t\tKevin\n",
      "\t\t\tØ\n",
      "\tJim\n",
      "\t\tØ\n",
      "Creed\n",
      "\tØ\n"
     ]
    }
   ],
   "source": [
    "display_keys(tree_c)"
   ]
  },
  {
   "cell_type": "code",
   "execution_count": 140,
   "metadata": {},
   "outputs": [],
   "source": [
    "\"\"\"\n",
    "Balancuing an unbalanced BST\n",
    "\n",
    "Write a function to balance an unbalanced BST.\n",
    "\"\"\"\n",
    "\n",
    "def balance_bst(node):\n",
    "    return make_balanced_bst(list_all(node)) # calling on the sorted array or in order traversal"
   ]
  },
  {
   "cell_type": "code",
   "execution_count": 141,
   "metadata": {},
   "outputs": [],
   "source": [
    "tree4 = None\n",
    "\n",
    "for user in users:\n",
    "    tree4 = insert(tree4, user.username, user)"
   ]
  },
  {
   "cell_type": "code",
   "execution_count": 142,
   "metadata": {},
   "outputs": [
    {
     "name": "stdout",
     "output_type": "stream",
     "text": [
      "\t\t\t\t\t\tToby\n",
      "\t\t\t\t\tRyan\n",
      "\t\t\t\t\t\tØ\n",
      "\t\t\t\tPam\n",
      "\t\t\t\t\tØ\n",
      "\t\t\tOscar\n",
      "\t\t\t\tØ\n",
      "\t\tKevin\n",
      "\t\t\tØ\n",
      "\tJim\n",
      "\t\tØ\n",
      "Creed\n",
      "\tØ\n"
     ]
    }
   ],
   "source": [
    "display_keys(tree4)"
   ]
  },
  {
   "cell_type": "code",
   "execution_count": 143,
   "metadata": {},
   "outputs": [],
   "source": [
    "#tree5 = balance_bst(tree4)\n",
    "# ERROR: '>' not supported between instances of 'int' and 'BSTNode'"
   ]
  },
  {
   "cell_type": "code",
   "execution_count": 144,
   "metadata": {},
   "outputs": [],
   "source": [
    "#display_keys(tree5)\n",
    "# ERROR: name 'tree5' is not defined"
   ]
  },
  {
   "cell_type": "code",
   "execution_count": 145,
   "metadata": {},
   "outputs": [
    {
     "name": "stdout",
     "output_type": "stream",
     "text": [
      "\t\tToby\n",
      "\tRyan\n",
      "\t\tPam\n",
      "Oscar\n",
      "\t\tKevin\n",
      "\tJim\n",
      "\t\tCreed\n"
     ]
    },
    {
     "data": {
      "text/plain": [
       "\" \\nAnyways 'tree5' is supposed to look like this.\\nThe unbalanced tree called 'tree4' is sorted alphabetically.\\nThen the balance_bst() function is called on to balance the tree4. \\nThe function is taking the middle of the sorted tree4 and creating a balanced bst.\\n... at least it was supposed to.\\n\""
      ]
     },
     "execution_count": 145,
     "metadata": {},
     "output_type": "execute_result"
    }
   ],
   "source": [
    "display_keys(tree)\n",
    "\n",
    "\"\"\" \n",
    "Anyways 'tree5' is supposed to look like this.\n",
    "The unbalanced tree called 'tree4' is sorted alphabetically.\n",
    "Then the balance_bst() function is called on to balance the tree4. \n",
    "The function is taking the middle of the sorted tree4 and creating a balanced bst.\n",
    "... at least it was supposed to.\n",
    "\"\"\"\n",
    "\n"
   ]
  },
  {
   "cell_type": "code",
   "execution_count": 146,
   "metadata": {},
   "outputs": [
    {
     "data": {
      "text/plain": [
       "'             \\nThe complexity of the various operations in a balanced BST:\\n    insert      O(log N) + O(N) = O(N)\\n    find        O(log N)\\n    update      O(log N)\\n    list all    O(N)\\n\\n'"
      ]
     },
     "execution_count": 146,
     "metadata": {},
     "output_type": "execute_result"
    }
   ],
   "source": [
    "\"\"\"             \n",
    "The complexity of the various operations in a balanced BST:\n",
    "    insert      O(log N) + O(N) = O(N)\n",
    "    find        O(log N)\n",
    "    update      O(log N)\n",
    "    list all    O(N)\n",
    "\n",
    "\"\"\""
   ]
  },
  {
   "cell_type": "code",
   "execution_count": 147,
   "metadata": {},
   "outputs": [
    {
     "data": {
      "image/png": "[encoded data removed]",
      "text/plain": [
       "<IPython.core.display.Image object>"
      ]
     },
     "execution_count": 147,
     "metadata": {},
     "output_type": "execute_result"
    }
   ],
   "source": [
    "from IPython import display\n",
    "display.Image(r\"C:\\Users\\ckraft\\Downloads\\Big O Notation.png\")"
   ]
  },
  {
   "cell_type": "code",
   "execution_count": 148,
   "metadata": {},
   "outputs": [
    {
     "data": {
      "image/png": "[encoded data removed]",
      "text/plain": [
       "<IPython.core.display.Image object>"
      ]
     },
     "execution_count": 148,
     "metadata": {},
     "output_type": "execute_result"
    }
   ],
   "source": [
    "from IPython import display\n",
    "display.Image(r\"C:\\Users\\ckraft\\Downloads\\Complexity.png\")"
   ]
  },
  {
   "cell_type": "code",
   "execution_count": 149,
   "metadata": {},
   "outputs": [
    {
     "data": {
      "text/plain": [
       "26.5754247590989"
      ]
     },
     "execution_count": 149,
     "metadata": {},
     "output_type": "execute_result"
    }
   ],
   "source": [
    "import math\n",
    "math.log(100000000,2) #log(base 2) of 100 M\n",
    "\n",
    "# It takes only 26 operations to find or update a node within a BST as opposed to 100 M records"
   ]
  },
  {
   "cell_type": "code",
   "execution_count": 150,
   "metadata": {},
   "outputs": [],
   "source": [
    "import timeit\n",
    "%timeit\n",
    "for i in range(26):\n",
    "    j = i*i # takes ~ 0.3 secs"
   ]
  },
  {
   "cell_type": "markdown",
   "metadata": {},
   "source": [
    "![](https://file%2B.vscode-resource.vscode-cdn.net/c%3A/Users/ckraft/Downloads/Complexity.png?version%3D1661550766364)"
   ]
  },
  {
   "cell_type": "code",
   "execution_count": 151,
   "metadata": {},
   "outputs": [
    {
     "data": {
      "text/plain": [
       "'            \\nFind and update from a balanced BST is 300,000 tiems faster than the origianl solution. \\nTo speed up insertions we can choose to perform the balancing periodically. Maybe like every 1000 insertions.\\nThis way msot isnertions will be O(log N) but every 1000th insertion will take a few seconds. \\nAnother opetion is to rebalance the tree periodically at the end of every hour.\\nJust changing the data structure will impact the speed.\\n'"
      ]
     },
     "execution_count": 151,
     "metadata": {},
     "output_type": "execute_result"
    }
   ],
   "source": [
    "import timeit\n",
    "%timeit\n",
    "# linear time\n",
    "for i in range(100000000):\n",
    "    j = i*i # takes ~8 secs\n",
    "\n",
    "\"\"\"            \n",
    "Find and update from a balanced BST is 300,000 tiems faster than the origianl solution. \n",
    "To speed up insertions we can choose to perform the balancing periodically. Maybe like every 1000 insertions.\n",
    "This way msot isnertions will be O(log N) but every 1000th insertion will take a few seconds. \n",
    "Another opetion is to rebalance the tree periodically at the end of every hour.\n",
    "Just changing the data structure will impact the speed.\n",
    "\"\"\"\n"
   ]
  },
  {
   "cell_type": "code",
   "execution_count": 152,
   "metadata": {},
   "outputs": [],
   "source": [
    "\n",
    "\"\"\"      \n",
    "Q: As a senior backend engineer at Jovian, you are tasked with developing a fast in memory data structure \n",
    "    to manage profile information (username, name, email) for 100 million users.\n",
    "    It should allow the follwing operations to be performed efficiently.\n",
    "    \n",
    "    1. insert the profile info for a new user\n",
    "    2. find the profile info of a user, given their username\n",
    "    3. update the profile info of a user, given their username\n",
    "    4. list all the users of the platform, sorted by username\n",
    "    \n",
    "    *Assume usernames are unique\n",
    "\"\"\"\n",
    "\n",
    "# Creating a eneric class TreeMap which supports all the operations specified in the original problem statement\n",
    "class TreeMap():\n",
    "    # internally stores BST inside\n",
    "    def __init__(self):\n",
    "        self.root = None # None meaning the tree has not been created\n",
    "    # setitem is a combo of insert and update\n",
    "    def __setitem__(self, key, value):\n",
    "        # get the root, find its key\n",
    "        node = find(self.root, key) \n",
    "        # if the root and key are/ are not found then ...\n",
    "        if not node:\n",
    "            # if the root and key are NOT found then insert into tree\n",
    "            self.root = insert(self.root, key, value)  \n",
    "            self.root = balance_bst(self.root)\n",
    "        else:\n",
    "            # if root and key ARE found in the tree then update the value\n",
    "            update(self.root, key, value)\n",
    "    # getitem is responsible for finding the node given the key \n",
    "    def __getitem__(self,key):\n",
    "        # if the node is found then return the assocating value otherwise return none\n",
    "        node = find(self.root, key)\n",
    "        return node.value if node else None\n",
    "    # replacement for list all function, \n",
    "    def __iter__(self):\n",
    "        return (x for x in list_all(self.root)) \n",
    "    # size of tree\n",
    "    def __len__(self):\n",
    "        return tree_size(self.root)\n",
    "    # drawing of tree\n",
    "    def dispay(self):\n",
    "        return display_keys(self.root)"
   ]
  },
  {
   "cell_type": "code",
   "execution_count": 153,
   "metadata": {},
   "outputs": [
    {
     "data": {
      "text/plain": [
       "[User(username = 'Creed', name = 'Creed Bratton', email = 'CreedBratton@DunderMifflin.com',\n",
       " User(username = 'Jim', name = 'Jim Halpert', email = 'JimHalpert@DunderMifflin.com',\n",
       " User(username = 'Kevin', name = 'Kevin Malone', email = 'KevinMalone@DunderMifflin.com',\n",
       " User(username = 'Oscar', name = 'Oscar Martinez', email = 'OscarMartinez@DunderMifflin.com',\n",
       " User(username = 'Pam', name = 'Pam Halpert', email = 'PamBeesly@DunderMifflin.com',\n",
       " User(username = 'Ryan', name = 'Ryan Howard', email = 'RyanHoward@DunderMifflin.com',\n",
       " User(username = 'Toby', name = 'Toby Flenderson', email = 'TobyFlenderson@DunderMifflin.com']"
      ]
     },
     "execution_count": 153,
     "metadata": {},
     "output_type": "execute_result"
    }
   ],
   "source": [
    "users"
   ]
  },
  {
   "cell_type": "code",
   "execution_count": 154,
   "metadata": {},
   "outputs": [],
   "source": [
    "treemap = TreeMap() # new treemap template"
   ]
  },
  {
   "cell_type": "code",
   "execution_count": 155,
   "metadata": {},
   "outputs": [
    {
     "name": "stdout",
     "output_type": "stream",
     "text": [
      "None\n"
     ]
    }
   ],
   "source": [
    "print(treemap.root) # empty"
   ]
  },
  {
   "cell_type": "code",
   "execution_count": 156,
   "metadata": {},
   "outputs": [
    {
     "name": "stdout",
     "output_type": "stream",
     "text": [
      "Ø\n"
     ]
    }
   ],
   "source": [
    "treemap.dispay() # empty"
   ]
  },
  {
   "cell_type": "code",
   "execution_count": 157,
   "metadata": {},
   "outputs": [
    {
     "ename": "TypeError",
     "evalue": "'>' not supported between instances of 'int' and 'BSTNode'",
     "output_type": "error",
     "traceback": [
      "\u001b[1;31m---------------------------------------------------------------------------\u001b[0m",
      "\u001b[1;31mTypeError\u001b[0m                                 Traceback (most recent call last)",
      "\u001b[1;32m~\\AppData\\Local\\Temp/ipykernel_15232/137817506.py\u001b[0m in \u001b[0;36m<module>\u001b[1;34m\u001b[0m\n\u001b[0;32m      1\u001b[0m \u001b[1;31m#treemap[key] = value\u001b[0m\u001b[1;33m\u001b[0m\u001b[1;33m\u001b[0m\u001b[1;33m\u001b[0m\u001b[0m\n\u001b[0;32m      2\u001b[0m \u001b[1;33m\u001b[0m\u001b[0m\n\u001b[1;32m----> 3\u001b[1;33m \u001b[0mtreemap\u001b[0m\u001b[1;33m[\u001b[0m\u001b[1;34m'Creed'\u001b[0m\u001b[1;33m]\u001b[0m \u001b[1;33m=\u001b[0m \u001b[0mCreed\u001b[0m\u001b[1;33m\u001b[0m\u001b[1;33m\u001b[0m\u001b[0m\n\u001b[0m\u001b[0;32m      4\u001b[0m \u001b[0mtreemap\u001b[0m\u001b[1;33m[\u001b[0m\u001b[1;34m'Jim'\u001b[0m\u001b[1;33m]\u001b[0m \u001b[1;33m=\u001b[0m \u001b[0mJim\u001b[0m\u001b[1;33m\u001b[0m\u001b[1;33m\u001b[0m\u001b[0m\n\u001b[0;32m      5\u001b[0m \u001b[0mtreemap\u001b[0m\u001b[1;33m[\u001b[0m\u001b[1;34m'Kevin'\u001b[0m\u001b[1;33m]\u001b[0m \u001b[1;33m=\u001b[0m \u001b[0mKevin\u001b[0m\u001b[1;33m\u001b[0m\u001b[1;33m\u001b[0m\u001b[0m\n",
      "\u001b[1;32m~\\AppData\\Local\\Temp/ipykernel_15232/1915585185.py\u001b[0m in \u001b[0;36m__setitem__\u001b[1;34m(self, key, value)\u001b[0m\n\u001b[0;32m     25\u001b[0m             \u001b[1;31m# if the root and key are NOT found then insert into tree\u001b[0m\u001b[1;33m\u001b[0m\u001b[1;33m\u001b[0m\u001b[1;33m\u001b[0m\u001b[0m\n\u001b[0;32m     26\u001b[0m             \u001b[0mself\u001b[0m\u001b[1;33m.\u001b[0m\u001b[0mroot\u001b[0m \u001b[1;33m=\u001b[0m \u001b[0minsert\u001b[0m\u001b[1;33m(\u001b[0m\u001b[0mself\u001b[0m\u001b[1;33m.\u001b[0m\u001b[0mroot\u001b[0m\u001b[1;33m,\u001b[0m \u001b[0mkey\u001b[0m\u001b[1;33m,\u001b[0m \u001b[0mvalue\u001b[0m\u001b[1;33m)\u001b[0m\u001b[1;33m\u001b[0m\u001b[1;33m\u001b[0m\u001b[0m\n\u001b[1;32m---> 27\u001b[1;33m             \u001b[0mself\u001b[0m\u001b[1;33m.\u001b[0m\u001b[0mroot\u001b[0m \u001b[1;33m=\u001b[0m \u001b[0mbalance_bst\u001b[0m\u001b[1;33m(\u001b[0m\u001b[0mself\u001b[0m\u001b[1;33m.\u001b[0m\u001b[0mroot\u001b[0m\u001b[1;33m)\u001b[0m\u001b[1;33m\u001b[0m\u001b[1;33m\u001b[0m\u001b[0m\n\u001b[0m\u001b[0;32m     28\u001b[0m         \u001b[1;32melse\u001b[0m\u001b[1;33m:\u001b[0m\u001b[1;33m\u001b[0m\u001b[1;33m\u001b[0m\u001b[0m\n\u001b[0;32m     29\u001b[0m             \u001b[1;31m# if root and key ARE found in the tree then update the value\u001b[0m\u001b[1;33m\u001b[0m\u001b[1;33m\u001b[0m\u001b[1;33m\u001b[0m\u001b[0m\n",
      "\u001b[1;32m~\\AppData\\Local\\Temp/ipykernel_15232/2373975189.py\u001b[0m in \u001b[0;36mbalance_bst\u001b[1;34m(node)\u001b[0m\n\u001b[0;32m      6\u001b[0m \u001b[1;33m\u001b[0m\u001b[0m\n\u001b[0;32m      7\u001b[0m \u001b[1;32mdef\u001b[0m \u001b[0mbalance_bst\u001b[0m\u001b[1;33m(\u001b[0m\u001b[0mnode\u001b[0m\u001b[1;33m)\u001b[0m\u001b[1;33m:\u001b[0m\u001b[1;33m\u001b[0m\u001b[1;33m\u001b[0m\u001b[0m\n\u001b[1;32m----> 8\u001b[1;33m     \u001b[1;32mreturn\u001b[0m \u001b[0mmake_balanced_bst\u001b[0m\u001b[1;33m(\u001b[0m\u001b[0mlist_all\u001b[0m\u001b[1;33m(\u001b[0m\u001b[0mnode\u001b[0m\u001b[1;33m)\u001b[0m\u001b[1;33m)\u001b[0m \u001b[1;31m# calling on the sorted array or in order traversal\u001b[0m\u001b[1;33m\u001b[0m\u001b[1;33m\u001b[0m\u001b[0m\n\u001b[0m",
      "\u001b[1;32m~\\AppData\\Local\\Temp/ipykernel_15232/157646934.py\u001b[0m in \u001b[0;36mmake_balanced_bst\u001b[1;34m(data, low, high, parent)\u001b[0m\n\u001b[0;32m     25\u001b[0m     \u001b[0mroot\u001b[0m\u001b[1;33m.\u001b[0m\u001b[0mparent\u001b[0m \u001b[1;33m=\u001b[0m \u001b[0mparent\u001b[0m\u001b[1;33m\u001b[0m\u001b[1;33m\u001b[0m\u001b[0m\n\u001b[0;32m     26\u001b[0m     \u001b[0mroot\u001b[0m\u001b[1;33m.\u001b[0m\u001b[0mleft\u001b[0m \u001b[1;33m=\u001b[0m \u001b[0mmake_balanced_bst\u001b[0m\u001b[1;33m(\u001b[0m\u001b[0mdata\u001b[0m\u001b[1;33m,\u001b[0m \u001b[0mlow\u001b[0m\u001b[1;33m,\u001b[0m \u001b[0mmid\u001b[0m\u001b[1;33m-\u001b[0m\u001b[1;36m1\u001b[0m\u001b[1;33m,\u001b[0m \u001b[0mroot\u001b[0m\u001b[1;33m)\u001b[0m \u001b[1;31m# left child (range 0-2)\u001b[0m\u001b[1;33m\u001b[0m\u001b[1;33m\u001b[0m\u001b[0m\n\u001b[1;32m---> 27\u001b[1;33m     \u001b[0mroot\u001b[0m\u001b[1;33m.\u001b[0m\u001b[0mright\u001b[0m \u001b[1;33m=\u001b[0m \u001b[0mmake_balanced_bst\u001b[0m\u001b[1;33m(\u001b[0m\u001b[0mdata\u001b[0m\u001b[1;33m,\u001b[0m \u001b[0mmid\u001b[0m\u001b[1;33m+\u001b[0m\u001b[1;36m1\u001b[0m\u001b[1;33m,\u001b[0m \u001b[0mroot\u001b[0m\u001b[1;33m)\u001b[0m \u001b[1;31m# right child (range 4-6)\u001b[0m\u001b[1;33m\u001b[0m\u001b[1;33m\u001b[0m\u001b[0m\n\u001b[0m\u001b[0;32m     28\u001b[0m \u001b[1;33m\u001b[0m\u001b[0m\n\u001b[0;32m     29\u001b[0m     \u001b[1;32mreturn\u001b[0m \u001b[0mroot\u001b[0m\u001b[1;33m\u001b[0m\u001b[1;33m\u001b[0m\u001b[0m\n",
      "\u001b[1;32m~\\AppData\\Local\\Temp/ipykernel_15232/157646934.py\u001b[0m in \u001b[0;36mmake_balanced_bst\u001b[1;34m(data, low, high, parent)\u001b[0m\n\u001b[0;32m     16\u001b[0m     \u001b[1;32mif\u001b[0m \u001b[0mhigh\u001b[0m \u001b[1;32mis\u001b[0m \u001b[1;32mNone\u001b[0m\u001b[1;33m:\u001b[0m\u001b[1;33m\u001b[0m\u001b[1;33m\u001b[0m\u001b[0m\n\u001b[0;32m     17\u001b[0m         \u001b[0mhigh\u001b[0m \u001b[1;33m=\u001b[0m \u001b[0mlen\u001b[0m\u001b[1;33m(\u001b[0m\u001b[0mdata\u001b[0m\u001b[1;33m)\u001b[0m \u001b[1;33m-\u001b[0m \u001b[1;36m1\u001b[0m \u001b[1;31m# the high is set to the very last element of the array (6)\u001b[0m\u001b[1;33m\u001b[0m\u001b[1;33m\u001b[0m\u001b[0m\n\u001b[1;32m---> 18\u001b[1;33m     \u001b[1;32mif\u001b[0m \u001b[0mlow\u001b[0m \u001b[1;33m>\u001b[0m \u001b[0mhigh\u001b[0m\u001b[1;33m:\u001b[0m\u001b[1;33m\u001b[0m\u001b[1;33m\u001b[0m\u001b[0m\n\u001b[0m\u001b[0;32m     19\u001b[0m         \u001b[1;32mreturn\u001b[0m \u001b[1;32mNone\u001b[0m\u001b[1;33m\u001b[0m\u001b[1;33m\u001b[0m\u001b[0m\n\u001b[0;32m     20\u001b[0m \u001b[1;33m\u001b[0m\u001b[0m\n",
      "\u001b[1;31mTypeError\u001b[0m: '>' not supported between instances of 'int' and 'BSTNode'"
     ]
    }
   ],
   "source": [
    "#treemap[key] = value\n",
    "\n",
    "treemap['Creed'] = Creed\n",
    "treemap['Jim'] = Jim \n",
    "treemap['Kevin'] = Kevin\n",
    "treemap['Oscar'] = Oscar\n",
    "treemap['Pam'] = Pam\n",
    "treemap['Ryan'] = Ryan\n",
    "treemap['Toby'] = Toby\n",
    "\n",
    "# ERROR:'>' not supported between instances of 'int' and 'BSTNode'"
   ]
  },
  {
   "cell_type": "code",
   "execution_count": 158,
   "metadata": {},
   "outputs": [
    {
     "name": "stdout",
     "output_type": "stream",
     "text": [
      "Creed\n"
     ]
    }
   ],
   "source": [
    "treemap.dispay()\n",
    "# interesting this is an unbalanced tree"
   ]
  },
  {
   "cell_type": "code",
   "execution_count": 159,
   "metadata": {},
   "outputs": [],
   "source": [
    "treemap['Jim']"
   ]
  },
  {
   "cell_type": "code",
   "execution_count": 160,
   "metadata": {},
   "outputs": [
    {
     "data": {
      "text/plain": [
       "1"
      ]
     },
     "execution_count": 160,
     "metadata": {},
     "output_type": "execute_result"
    }
   ],
   "source": [
    "len(treemap)"
   ]
  },
  {
   "cell_type": "code",
   "execution_count": 161,
   "metadata": {},
   "outputs": [
    {
     "name": "stdout",
     "output_type": "stream",
     "text": [
      "Creed User(username = 'Creed', name = 'Creed Bratton', email = 'CreedBratton@DunderMifflin.com'\n"
     ]
    }
   ],
   "source": [
    "# the __iter__ allowed for this list_all() to be in a for loop\n",
    "for key, value in treemap:\n",
    "    print(key, value)"
   ]
  },
  {
   "cell_type": "code",
   "execution_count": 162,
   "metadata": {},
   "outputs": [],
   "source": [
    "treemap['Creed'] = User(username = 'Creed', name = 'Creed Rowland Bratton', email = 'CreedBratton@DunderMifflin.com')"
   ]
  },
  {
   "cell_type": "code",
   "execution_count": 163,
   "metadata": {},
   "outputs": [
    {
     "data": {
      "text/plain": [
       "User(username = 'Creed', name = 'Creed Rowland Bratton', email = 'CreedBratton@DunderMifflin.com'"
      ]
     },
     "execution_count": 163,
     "metadata": {},
     "output_type": "execute_result"
    }
   ],
   "source": [
    "treemap['Creed']"
   ]
  },
  {
   "cell_type": "code",
   "execution_count": 164,
   "metadata": {},
   "outputs": [
    {
     "data": {
      "text/plain": [
       "[('Creed',\n",
       "  User(username = 'Creed', name = 'Creed Rowland Bratton', email = 'CreedBratton@DunderMifflin.com')]"
      ]
     },
     "execution_count": 164,
     "metadata": {},
     "output_type": "execute_result"
    }
   ],
   "source": [
    "list(treemap)"
   ]
  },
  {
   "cell_type": "code",
   "execution_count": 165,
   "metadata": {},
   "outputs": [
    {
     "data": {
      "image/png": "[encoded data removed]",
      "text/plain": [
       "<IPython.core.display.Image object>"
      ]
     },
     "execution_count": 165,
     "metadata": {},
     "output_type": "execute_result"
    }
   ],
   "source": [
    "\"\"\"\n",
    "Self Balancing Binary Trees and AVL Trees\n",
    "    Self balancing bt remains balanced after every insertion or deletion. \n",
    "    Several decades of reserach has gone into creating self-balancing bt.\n",
    "    Many approaches have been devised (e.g. B-trees, Red black trees, and AVL (Adelson-Velsky Landis) trees).\n",
    "    \n",
    "    AVL is achieved by tracking the balance factor (diff b/w the height of the left subtree and right subtree) for each node \n",
    "        and rotation unbalanced subrees along the path of insertion/deletion to balance them.\n",
    "\n",
    "In a balanced BST the balance factor of each node is either 0, -1, or 1. \n",
    "When we perform an insertion then the balance factor of certain ndoes along the path of insertion may change to 2 or -2. \n",
    "Those nodes can be rotated one-by-one to bring the balance factor back to 1, 0, or -1.as_integer_ratio\n",
    "There are 4 different scenarios for balancing. Two of which require a single rotation hwile the others require two rotations.\n",
    "\n",
    "Supplementary resources for understanding the 4 different scenarios for balancing.\n",
    "    - https://www.geeksforgeeks.org/avl-tree-set-1-insertion/\n",
    "    - https://youtu.be/vRwi_UcZGjU \n",
    "    - https://www.freecodecamp.org/news/avl-tree-insertion-rotation-and-balance-factor/ \n",
    "\n",
    "\n",
    "Conclusion: inserting/deleting and balancing as the tree is being created is much more efficient then inserting the whole treee then recreating whole tree to balance it.\n",
    "    Each rotation takes constant time, at the most log N rotations may be required.\n",
    "    This operation is far more efficient the creating a balanced bt from scratch.\n",
    "    By allowing insertion and deletion to be performed in O(log N) time.\n",
    "\"\"\"\n",
    "from IPython import display\n",
    "display.Image(r\"C:\\Users\\ckraft\\Downloads\\Big O Notation.png\")"
   ]
  },
  {
   "cell_type": "code",
   "execution_count": 166,
   "metadata": {},
   "outputs": [],
   "source": [
    "########################################### Lesson 3 ###########################################"
   ]
  },
  {
   "cell_type": "code",
   "execution_count": 167,
   "metadata": {},
   "outputs": [
    {
     "data": {
      "text/plain": [
       "\"\\nDictionaries in python are used to store key-value pairs. \\nKeys are used to store and retreive values.\\nDictionaries in python are implemented using a ds called 'hash table' which uses a list/array to store the key-value pairs\\n    and uses a hashing function to determine the index for store or retreiving the data associated with a given key.\\n\""
      ]
     },
     "execution_count": 167,
     "metadata": {},
     "output_type": "execute_result"
    }
   ],
   "source": [
    "# Hash tables\n",
    "\"\"\"\n",
    "Dictionaries in python are used to store key-value pairs. \n",
    "Keys are used to store and retreive values.\n",
    "Dictionaries in python are implemented using a ds called 'hash table' which uses a list/array to store the key-value pairs\n",
    "    and uses a hashing function to determine the index for store or retreiving the data associated with a given key.\n",
    "\"\"\""
   ]
  },
  {
   "cell_type": "code",
   "execution_count": 168,
   "metadata": {},
   "outputs": [
    {
     "data": {
      "text/plain": [
       "{'Jess': '3344255117', 'Nick': '5308589185', 'Schmidt': '4468900844'}"
      ]
     },
     "execution_count": 168,
     "metadata": {},
     "output_type": "execute_result"
    }
   ],
   "source": [
    "Phone_numbers = {\n",
    "    'Jess': '3344255117',\n",
    "    'Nick': '5308589185',\n",
    "    'Schmidt': '4468900844'\n",
    "}\n",
    "Phone_numbers"
   ]
  },
  {
   "cell_type": "code",
   "execution_count": 169,
   "metadata": {},
   "outputs": [
    {
     "data": {
      "text/plain": [
       "'3344255117'"
      ]
     },
     "execution_count": 169,
     "metadata": {},
     "output_type": "execute_result"
    }
   ],
   "source": [
    "Phone_numbers['Jess']"
   ]
  },
  {
   "cell_type": "code",
   "execution_count": 170,
   "metadata": {},
   "outputs": [
    {
     "data": {
      "text/plain": [
       "{'Jess': '3344259117',\n",
       " 'Nick': '5308589185',\n",
       " 'Schmidt': '4468900844',\n",
       " 'Cece': '1969635135'}"
      ]
     },
     "execution_count": 170,
     "metadata": {},
     "output_type": "execute_result"
    }
   ],
   "source": [
    "# add a new value\n",
    "Phone_numbers['Cece'] = '1969635135'\n",
    "# update existing value\n",
    "Phone_numbers['Jess'] = '3344259117'\n",
    "# Vview the updated dictionary\n",
    "Phone_numbers"
   ]
  },
  {
   "cell_type": "code",
   "execution_count": 171,
   "metadata": {},
   "outputs": [
    {
     "name": "stdout",
     "output_type": "stream",
     "text": [
      "Name: Jess \t\tPhone Number: 3344259117\n",
      "Name: Nick \t\tPhone Number: 5308589185\n",
      "Name: Schmidt \t\tPhone Number: 4468900844\n",
      "Name: Cece \t\tPhone Number: 1969635135\n"
     ]
    }
   ],
   "source": [
    "for name in Phone_numbers:\n",
    "    print('Name:',name, '\\t\\tPhone Number:', Phone_numbers[name])"
   ]
  },
  {
   "cell_type": "code",
   "execution_count": 172,
   "metadata": {},
   "outputs": [
    {
     "data": {
      "text/plain": [
       "'     \\nThe objective is to implement a HashTable class which supports the following operations:\\n    1. insert a new key-value pair\\n    2. find the value associated with a key\\n    3. update the value associated with a key\\n    4. list all the the keys stored in the hash table\\n'"
      ]
     },
     "execution_count": 172,
     "metadata": {},
     "output_type": "execute_result"
    }
   ],
   "source": [
    "\"\"\"     \n",
    "The objective is to implement a HashTable class which supports the following operations:\n",
    "    1. insert a new key-value pair\n",
    "    2. find the value associated with a key\n",
    "    3. update the value associated with a key\n",
    "    4. list all the the keys stored in the hash table\n",
    "\"\"\""
   ]
  },
  {
   "cell_type": "code",
   "execution_count": 173,
   "metadata": {},
   "outputs": [],
   "source": [
    "class HashTable:\n",
    "    def insert(self, key, value):\n",
    "        \"\"\"insert a new key value pair\"\"\"\n",
    "        pass\n",
    "    \n",
    "    def find(self, key):\n",
    "        \"\"\"find the value associated with a key\"\"\"\n",
    "        pass\n",
    "    \n",
    "    def udpate(self, key, value):\n",
    "        \"\"\"update the value associated with a key\"\"\"\n",
    "        pass\n",
    "    \n",
    "    def list_all(self):\n",
    "        \"\"\"list all the the keys stored in the hash table\"\"\"\n",
    "        pass"
   ]
  },
  {
   "cell_type": "code",
   "execution_count": 174,
   "metadata": {},
   "outputs": [],
   "source": [
    "# Building the hash table class- first step is to create a python list with a fixed size\n",
    "MAX_HASH_TABLE_SIZE = 4096"
   ]
  },
  {
   "cell_type": "code",
   "execution_count": 175,
   "metadata": {},
   "outputs": [],
   "source": [
    "# list of size MAX_HASH_TABLE_SIZE with all values None\n",
    "data_list = [None] * 4096"
   ]
  },
  {
   "cell_type": "code",
   "execution_count": 176,
   "metadata": {},
   "outputs": [
    {
     "data": {
      "text/plain": [
       "True"
      ]
     },
     "execution_count": 176,
     "metadata": {},
     "output_type": "execute_result"
    }
   ],
   "source": [
    "len(data_list) == 4096"
   ]
  },
  {
   "cell_type": "code",
   "execution_count": 177,
   "metadata": {},
   "outputs": [
    {
     "data": {
      "text/plain": [
       "4096"
      ]
     },
     "execution_count": 177,
     "metadata": {},
     "output_type": "execute_result"
    }
   ],
   "source": [
    "len(data_list)"
   ]
  },
  {
   "cell_type": "code",
   "execution_count": 178,
   "metadata": {},
   "outputs": [],
   "source": [
    "for item in data_list:\n",
    "    assert item == None # assert says if item == None is true then do nothing, if this is false then write an error message"
   ]
  },
  {
   "cell_type": "code",
   "execution_count": 179,
   "metadata": {},
   "outputs": [
    {
     "data": {
      "text/plain": [
       "'for item in data_list:\\n    assert item == 7 # assert says if item == 7 is true then do nothing, if this is false then write an error message\\n'"
      ]
     },
     "execution_count": 179,
     "metadata": {},
     "output_type": "execute_result"
    }
   ],
   "source": [
    "\"\"\"for item in data_list:\n",
    "    assert item == 7 # assert says if item == 7 is true then do nothing, if this is false then write an error message\n",
    "\"\"\""
   ]
  },
  {
   "cell_type": "code",
   "execution_count": 180,
   "metadata": {},
   "outputs": [
    {
     "data": {
      "text/plain": [
       "True"
      ]
     },
     "execution_count": 180,
     "metadata": {},
     "output_type": "execute_result"
    }
   ],
   "source": [
    "data_list[99] == None"
   ]
  },
  {
   "cell_type": "code",
   "execution_count": 181,
   "metadata": {},
   "outputs": [
    {
     "data": {
      "text/plain": [
       "[None,\n",
       " None,\n",
       " None,\n",
       " None,\n",
       " None,\n",
       " None,\n",
       " None,\n",
       " None,\n",
       " None,\n",
       " None,\n",
       " None,\n",
       " None,\n",
       " None,\n",
       " None,\n",
       " None,\n",
       " None,\n",
       " None,\n",
       " None,\n",
       " None,\n",
       " None,\n",
       " None,\n",
       " None,\n",
       " None,\n",
       " None,\n",
       " None,\n",
       " None,\n",
       " None,\n",
       " None,\n",
       " None,\n",
       " None,\n",
       " None,\n",
       " None,\n",
       " None,\n",
       " None,\n",
       " None,\n",
       " None,\n",
       " None,\n",
       " None,\n",
       " None,\n",
       " None,\n",
       " None,\n",
       " None,\n",
       " None,\n",
       " None,\n",
       " None,\n",
       " None,\n",
       " None,\n",
       " None,\n",
       " None,\n",
       " None,\n",
       " None,\n",
       " None,\n",
       " None,\n",
       " None,\n",
       " None,\n",
       " None,\n",
       " None,\n",
       " None,\n",
       " None,\n",
       " None,\n",
       " None,\n",
       " None,\n",
       " None,\n",
       " None,\n",
       " None,\n",
       " None,\n",
       " None,\n",
       " None,\n",
       " None,\n",
       " None,\n",
       " None,\n",
       " None,\n",
       " None,\n",
       " None,\n",
       " None,\n",
       " None,\n",
       " None,\n",
       " None,\n",
       " None,\n",
       " None,\n",
       " None,\n",
       " None,\n",
       " None,\n",
       " None,\n",
       " None,\n",
       " None,\n",
       " None,\n",
       " None,\n",
       " None,\n",
       " None,\n",
       " None,\n",
       " None,\n",
       " None,\n",
       " None,\n",
       " None,\n",
       " None,\n",
       " None,\n",
       " None,\n",
       " None,\n",
       " None,\n",
       " None,\n",
       " None,\n",
       " None,\n",
       " None,\n",
       " None,\n",
       " None,\n",
       " None,\n",
       " None,\n",
       " None,\n",
       " None,\n",
       " None,\n",
       " None,\n",
       " None,\n",
       " None,\n",
       " None,\n",
       " None,\n",
       " None,\n",
       " None,\n",
       " None,\n",
       " None,\n",
       " None,\n",
       " None,\n",
       " None,\n",
       " None,\n",
       " None,\n",
       " None,\n",
       " None,\n",
       " None,\n",
       " None,\n",
       " None,\n",
       " None,\n",
       " None,\n",
       " None,\n",
       " None,\n",
       " None,\n",
       " None,\n",
       " None,\n",
       " None,\n",
       " None,\n",
       " None,\n",
       " None,\n",
       " None,\n",
       " None,\n",
       " None,\n",
       " None,\n",
       " None,\n",
       " None,\n",
       " None,\n",
       " None,\n",
       " None,\n",
       " None,\n",
       " None,\n",
       " None,\n",
       " None,\n",
       " None,\n",
       " None,\n",
       " None,\n",
       " None,\n",
       " None,\n",
       " None,\n",
       " None,\n",
       " None,\n",
       " None,\n",
       " None,\n",
       " None,\n",
       " None,\n",
       " None,\n",
       " None,\n",
       " None,\n",
       " None,\n",
       " None,\n",
       " None,\n",
       " None,\n",
       " None,\n",
       " None,\n",
       " None,\n",
       " None,\n",
       " None,\n",
       " None,\n",
       " None,\n",
       " None,\n",
       " None,\n",
       " None,\n",
       " None,\n",
       " None,\n",
       " None,\n",
       " None,\n",
       " None,\n",
       " None,\n",
       " None,\n",
       " None,\n",
       " None,\n",
       " None,\n",
       " None,\n",
       " None,\n",
       " None,\n",
       " None,\n",
       " None,\n",
       " None,\n",
       " None,\n",
       " None,\n",
       " None,\n",
       " None,\n",
       " None,\n",
       " None,\n",
       " None,\n",
       " None,\n",
       " None,\n",
       " None,\n",
       " None,\n",
       " None,\n",
       " None,\n",
       " None,\n",
       " None,\n",
       " None,\n",
       " None,\n",
       " None,\n",
       " None,\n",
       " None,\n",
       " None,\n",
       " None,\n",
       " None,\n",
       " None,\n",
       " None,\n",
       " None,\n",
       " None,\n",
       " None,\n",
       " None,\n",
       " None,\n",
       " None,\n",
       " None,\n",
       " None,\n",
       " None,\n",
       " None,\n",
       " None,\n",
       " None,\n",
       " None,\n",
       " None,\n",
       " None,\n",
       " None,\n",
       " None,\n",
       " None,\n",
       " None,\n",
       " None,\n",
       " None,\n",
       " None,\n",
       " None,\n",
       " None,\n",
       " None,\n",
       " None,\n",
       " None,\n",
       " None,\n",
       " None,\n",
       " None,\n",
       " None,\n",
       " None,\n",
       " None,\n",
       " None,\n",
       " None,\n",
       " None,\n",
       " None,\n",
       " None,\n",
       " None,\n",
       " None,\n",
       " None,\n",
       " None,\n",
       " None,\n",
       " None,\n",
       " None,\n",
       " None,\n",
       " None,\n",
       " None,\n",
       " None,\n",
       " None,\n",
       " None,\n",
       " None,\n",
       " None,\n",
       " None,\n",
       " None,\n",
       " None,\n",
       " None,\n",
       " None,\n",
       " None,\n",
       " None,\n",
       " None,\n",
       " None,\n",
       " None,\n",
       " None,\n",
       " None,\n",
       " None,\n",
       " None,\n",
       " None,\n",
       " None,\n",
       " None,\n",
       " None,\n",
       " None,\n",
       " None,\n",
       " None,\n",
       " None,\n",
       " None,\n",
       " None,\n",
       " None,\n",
       " None,\n",
       " None,\n",
       " None,\n",
       " None,\n",
       " None,\n",
       " None,\n",
       " None,\n",
       " None,\n",
       " None,\n",
       " None,\n",
       " None,\n",
       " None,\n",
       " None,\n",
       " None,\n",
       " None,\n",
       " None,\n",
       " None,\n",
       " None,\n",
       " None,\n",
       " None,\n",
       " None,\n",
       " None,\n",
       " None,\n",
       " None,\n",
       " None,\n",
       " None,\n",
       " None,\n",
       " None,\n",
       " None,\n",
       " None,\n",
       " None,\n",
       " None,\n",
       " None,\n",
       " None,\n",
       " None,\n",
       " None,\n",
       " None,\n",
       " None,\n",
       " None,\n",
       " None,\n",
       " None,\n",
       " None,\n",
       " None,\n",
       " None,\n",
       " None,\n",
       " None,\n",
       " None,\n",
       " None,\n",
       " None,\n",
       " None,\n",
       " None,\n",
       " None,\n",
       " None,\n",
       " None,\n",
       " None,\n",
       " None,\n",
       " None,\n",
       " None,\n",
       " None,\n",
       " None,\n",
       " None,\n",
       " None,\n",
       " None,\n",
       " None,\n",
       " None,\n",
       " None,\n",
       " None,\n",
       " None,\n",
       " None,\n",
       " None,\n",
       " None,\n",
       " None,\n",
       " None,\n",
       " None,\n",
       " None,\n",
       " None,\n",
       " None,\n",
       " None,\n",
       " None,\n",
       " None,\n",
       " None,\n",
       " None,\n",
       " None,\n",
       " None,\n",
       " None,\n",
       " None,\n",
       " None,\n",
       " None,\n",
       " None,\n",
       " None,\n",
       " None,\n",
       " None,\n",
       " None,\n",
       " None,\n",
       " None,\n",
       " None,\n",
       " None,\n",
       " None,\n",
       " None,\n",
       " None,\n",
       " None,\n",
       " None,\n",
       " None,\n",
       " None,\n",
       " None,\n",
       " None,\n",
       " None,\n",
       " None,\n",
       " None,\n",
       " None,\n",
       " None,\n",
       " None,\n",
       " None,\n",
       " None,\n",
       " None,\n",
       " None,\n",
       " None,\n",
       " None,\n",
       " None,\n",
       " None,\n",
       " None,\n",
       " None,\n",
       " None,\n",
       " None,\n",
       " None,\n",
       " None,\n",
       " None,\n",
       " None,\n",
       " None,\n",
       " None,\n",
       " None,\n",
       " None,\n",
       " None,\n",
       " None,\n",
       " None,\n",
       " None,\n",
       " None,\n",
       " None,\n",
       " None,\n",
       " None,\n",
       " None,\n",
       " None,\n",
       " None,\n",
       " None,\n",
       " None,\n",
       " None,\n",
       " None,\n",
       " None,\n",
       " None,\n",
       " None,\n",
       " None,\n",
       " None,\n",
       " None,\n",
       " None,\n",
       " None,\n",
       " None,\n",
       " None,\n",
       " None,\n",
       " None,\n",
       " None,\n",
       " None,\n",
       " None,\n",
       " None,\n",
       " None,\n",
       " None,\n",
       " None,\n",
       " None,\n",
       " None,\n",
       " None,\n",
       " None,\n",
       " None,\n",
       " None,\n",
       " None,\n",
       " None,\n",
       " None,\n",
       " None,\n",
       " None,\n",
       " None,\n",
       " None,\n",
       " None,\n",
       " None,\n",
       " None,\n",
       " None,\n",
       " None,\n",
       " None,\n",
       " None,\n",
       " None,\n",
       " None,\n",
       " None,\n",
       " None,\n",
       " None,\n",
       " None,\n",
       " None,\n",
       " None,\n",
       " None,\n",
       " None,\n",
       " None,\n",
       " None,\n",
       " None,\n",
       " None,\n",
       " None,\n",
       " None,\n",
       " None,\n",
       " None,\n",
       " None,\n",
       " None,\n",
       " None,\n",
       " None,\n",
       " None,\n",
       " None,\n",
       " None,\n",
       " None,\n",
       " None,\n",
       " None,\n",
       " None,\n",
       " None,\n",
       " None,\n",
       " None,\n",
       " None,\n",
       " None,\n",
       " None,\n",
       " None,\n",
       " None,\n",
       " None,\n",
       " None,\n",
       " None,\n",
       " None,\n",
       " None,\n",
       " None,\n",
       " None,\n",
       " None,\n",
       " None,\n",
       " None,\n",
       " None,\n",
       " None,\n",
       " None,\n",
       " None,\n",
       " None,\n",
       " None,\n",
       " None,\n",
       " None,\n",
       " None,\n",
       " None,\n",
       " None,\n",
       " None,\n",
       " None,\n",
       " None,\n",
       " None,\n",
       " None,\n",
       " None,\n",
       " None,\n",
       " None,\n",
       " None,\n",
       " None,\n",
       " None,\n",
       " None,\n",
       " None,\n",
       " None,\n",
       " None,\n",
       " None,\n",
       " None,\n",
       " None,\n",
       " None,\n",
       " None,\n",
       " None,\n",
       " None,\n",
       " None,\n",
       " None,\n",
       " None,\n",
       " None,\n",
       " None,\n",
       " None,\n",
       " None,\n",
       " None,\n",
       " None,\n",
       " None,\n",
       " None,\n",
       " None,\n",
       " None,\n",
       " None,\n",
       " None,\n",
       " None,\n",
       " None,\n",
       " None,\n",
       " None,\n",
       " None,\n",
       " None,\n",
       " None,\n",
       " None,\n",
       " None,\n",
       " None,\n",
       " None,\n",
       " None,\n",
       " None,\n",
       " None,\n",
       " None,\n",
       " None,\n",
       " None,\n",
       " None,\n",
       " None,\n",
       " None,\n",
       " None,\n",
       " None,\n",
       " None,\n",
       " None,\n",
       " None,\n",
       " None,\n",
       " None,\n",
       " None,\n",
       " None,\n",
       " None,\n",
       " None,\n",
       " None,\n",
       " None,\n",
       " None,\n",
       " None,\n",
       " None,\n",
       " None,\n",
       " None,\n",
       " None,\n",
       " None,\n",
       " None,\n",
       " None,\n",
       " None,\n",
       " None,\n",
       " None,\n",
       " None,\n",
       " None,\n",
       " None,\n",
       " None,\n",
       " None,\n",
       " None,\n",
       " None,\n",
       " None,\n",
       " None,\n",
       " None,\n",
       " None,\n",
       " None,\n",
       " None,\n",
       " None,\n",
       " None,\n",
       " None,\n",
       " None,\n",
       " None,\n",
       " None,\n",
       " None,\n",
       " None,\n",
       " None,\n",
       " None,\n",
       " None,\n",
       " None,\n",
       " None,\n",
       " None,\n",
       " None,\n",
       " None,\n",
       " None,\n",
       " None,\n",
       " None,\n",
       " None,\n",
       " None,\n",
       " None,\n",
       " None,\n",
       " None,\n",
       " None,\n",
       " None,\n",
       " None,\n",
       " None,\n",
       " None,\n",
       " None,\n",
       " None,\n",
       " None,\n",
       " None,\n",
       " None,\n",
       " None,\n",
       " None,\n",
       " None,\n",
       " None,\n",
       " None,\n",
       " None,\n",
       " None,\n",
       " None,\n",
       " None,\n",
       " None,\n",
       " None,\n",
       " None,\n",
       " None,\n",
       " None,\n",
       " None,\n",
       " None,\n",
       " None,\n",
       " None,\n",
       " None,\n",
       " None,\n",
       " None,\n",
       " None,\n",
       " None,\n",
       " None,\n",
       " None,\n",
       " None,\n",
       " None,\n",
       " None,\n",
       " None,\n",
       " None,\n",
       " None,\n",
       " None,\n",
       " None,\n",
       " None,\n",
       " None,\n",
       " None,\n",
       " None,\n",
       " None,\n",
       " None,\n",
       " None,\n",
       " None,\n",
       " None,\n",
       " None,\n",
       " None,\n",
       " None,\n",
       " None,\n",
       " None,\n",
       " None,\n",
       " None,\n",
       " None,\n",
       " None,\n",
       " None,\n",
       " None,\n",
       " None,\n",
       " None,\n",
       " None,\n",
       " None,\n",
       " None,\n",
       " None,\n",
       " None,\n",
       " None,\n",
       " None,\n",
       " None,\n",
       " None,\n",
       " None,\n",
       " None,\n",
       " None,\n",
       " None,\n",
       " None,\n",
       " None,\n",
       " None,\n",
       " None,\n",
       " None,\n",
       " None,\n",
       " None,\n",
       " None,\n",
       " None,\n",
       " None,\n",
       " None,\n",
       " None,\n",
       " None,\n",
       " None,\n",
       " None,\n",
       " None,\n",
       " None,\n",
       " None,\n",
       " None,\n",
       " None,\n",
       " None,\n",
       " None,\n",
       " None,\n",
       " None,\n",
       " None,\n",
       " None,\n",
       " None,\n",
       " None,\n",
       " None,\n",
       " None,\n",
       " None,\n",
       " None,\n",
       " None,\n",
       " None,\n",
       " None,\n",
       " None,\n",
       " None,\n",
       " None,\n",
       " None,\n",
       " None,\n",
       " None,\n",
       " None,\n",
       " None,\n",
       " None,\n",
       " None,\n",
       " None,\n",
       " None,\n",
       " None,\n",
       " None,\n",
       " None,\n",
       " None,\n",
       " None,\n",
       " None,\n",
       " None,\n",
       " None,\n",
       " None,\n",
       " None,\n",
       " None,\n",
       " None,\n",
       " None,\n",
       " None,\n",
       " None,\n",
       " None,\n",
       " None,\n",
       " None,\n",
       " None,\n",
       " None,\n",
       " None,\n",
       " None,\n",
       " None,\n",
       " None,\n",
       " None,\n",
       " None,\n",
       " None,\n",
       " None,\n",
       " None,\n",
       " None,\n",
       " None,\n",
       " None,\n",
       " None,\n",
       " None,\n",
       " None,\n",
       " None,\n",
       " None,\n",
       " None,\n",
       " None,\n",
       " None,\n",
       " None,\n",
       " None,\n",
       " None,\n",
       " None,\n",
       " None,\n",
       " None,\n",
       " None,\n",
       " None,\n",
       " None,\n",
       " None,\n",
       " None,\n",
       " None,\n",
       " None,\n",
       " None,\n",
       " None,\n",
       " None,\n",
       " None,\n",
       " None,\n",
       " None,\n",
       " None,\n",
       " None,\n",
       " None,\n",
       " None,\n",
       " None,\n",
       " None,\n",
       " None,\n",
       " None,\n",
       " None,\n",
       " None,\n",
       " None,\n",
       " None,\n",
       " None,\n",
       " None,\n",
       " None,\n",
       " None,\n",
       " None,\n",
       " None,\n",
       " None,\n",
       " None,\n",
       " None,\n",
       " None,\n",
       " None,\n",
       " None,\n",
       " None,\n",
       " None,\n",
       " None,\n",
       " None,\n",
       " None,\n",
       " None,\n",
       " None,\n",
       " None,\n",
       " None,\n",
       " None,\n",
       " None,\n",
       " None,\n",
       " None,\n",
       " None,\n",
       " None,\n",
       " None,\n",
       " None,\n",
       " None,\n",
       " None,\n",
       " None,\n",
       " None,\n",
       " None,\n",
       " None,\n",
       " None,\n",
       " None,\n",
       " None,\n",
       " None,\n",
       " None,\n",
       " None,\n",
       " None,\n",
       " None,\n",
       " None,\n",
       " None,\n",
       " None,\n",
       " None,\n",
       " None,\n",
       " None,\n",
       " None,\n",
       " None,\n",
       " None,\n",
       " None,\n",
       " None,\n",
       " None,\n",
       " None,\n",
       " None,\n",
       " None,\n",
       " None,\n",
       " None,\n",
       " None,\n",
       " None,\n",
       " None,\n",
       " None,\n",
       " None,\n",
       " None,\n",
       " None,\n",
       " None,\n",
       " None,\n",
       " None,\n",
       " None,\n",
       " None,\n",
       " None,\n",
       " None,\n",
       " None,\n",
       " None,\n",
       " None,\n",
       " None,\n",
       " None,\n",
       " None,\n",
       " None,\n",
       " None,\n",
       " None,\n",
       " None,\n",
       " None,\n",
       " None,\n",
       " None,\n",
       " None,\n",
       " None,\n",
       " None,\n",
       " None,\n",
       " None,\n",
       " None,\n",
       " None,\n",
       " None,\n",
       " None,\n",
       " None,\n",
       " None,\n",
       " None,\n",
       " None,\n",
       " None,\n",
       " None,\n",
       " None,\n",
       " None,\n",
       " None,\n",
       " None,\n",
       " None,\n",
       " None,\n",
       " None,\n",
       " None,\n",
       " None,\n",
       " None,\n",
       " None,\n",
       " None,\n",
       " None,\n",
       " None,\n",
       " None,\n",
       " None,\n",
       " None,\n",
       " None,\n",
       " None,\n",
       " None,\n",
       " None,\n",
       " None,\n",
       " None,\n",
       " None,\n",
       " None,\n",
       " None,\n",
       " None,\n",
       " None,\n",
       " None,\n",
       " None,\n",
       " None,\n",
       " None,\n",
       " None,\n",
       " None,\n",
       " None,\n",
       " None,\n",
       " None,\n",
       " ...]"
      ]
     },
     "execution_count": 181,
     "metadata": {},
     "output_type": "execute_result"
    }
   ],
   "source": [
    "data_list"
   ]
  },
  {
   "cell_type": "code",
   "execution_count": 182,
   "metadata": {},
   "outputs": [
    {
     "data": {
      "text/plain": [
       "'\\nA hashing func is used to convert strings and other non numeric data types into numbers, which can be used as list indicies.\\nThe simple alg for hashing:\\n    - interate over the string, character by character\\n    - convert each character to a number using python built in ord func\\n    - add the numbers for each character to obtain the hash for the entire string\\n    - take the remainder of the result with the size of the data list\\n:\\n'"
      ]
     },
     "execution_count": 182,
     "metadata": {},
     "output_type": "execute_result"
    }
   ],
   "source": [
    "# Hashing function\n",
    "\"\"\"\n",
    "A hashing func is used to convert strings and other non numeric data types into numbers, which can be used as list indicies.\n",
    "The simple alg for hashing:\n",
    "    - interate over the string, character by character\n",
    "    - convert each character to a number using python built in ord func\n",
    "    - add the numbers for each character to obtain the hash for the entire string\n",
    "    - take the remainder of the result with the size of the data list\n",
    ":\n",
    "\"\"\""
   ]
  },
  {
   "cell_type": "code",
   "execution_count": 183,
   "metadata": {},
   "outputs": [
    {
     "data": {
      "text/plain": [
       "120"
      ]
     },
     "execution_count": 183,
     "metadata": {},
     "output_type": "execute_result"
    }
   ],
   "source": [
    "ord('x')"
   ]
  },
  {
   "cell_type": "code",
   "execution_count": 184,
   "metadata": {},
   "outputs": [],
   "source": [
    "#ord('hello world')\n",
    "# cannot convert strands of chars, one char at a time"
   ]
  },
  {
   "cell_type": "code",
   "execution_count": 185,
   "metadata": {},
   "outputs": [
    {
     "data": {
      "text/plain": [
       "3274"
      ]
     },
     "execution_count": 185,
     "metadata": {},
     "output_type": "execute_result"
    }
   ],
   "source": [
    "343242 % MAX_HASH_TABLE_SIZE"
   ]
  },
  {
   "cell_type": "code",
   "execution_count": 186,
   "metadata": {},
   "outputs": [],
   "source": [
    "def get_index(data_list, a_string):\n",
    "    # var to store the result (update after each iteration)\n",
    "    result = 0\n",
    "    \n",
    "    for a_character in a_string:\n",
    "        #convert the char to a number using ord\n",
    "        a_number = ord(a_character)\n",
    "        # update result by adding the number\n",
    "        result += a_number\n",
    "    \n",
    "    # take the remainder of the result with the size of the data list\n",
    "    list_index = result % len(data_list)\n",
    "    return list_index"
   ]
  },
  {
   "cell_type": "code",
   "execution_count": 187,
   "metadata": {},
   "outputs": [
    {
     "data": {
      "text/plain": [
       "True"
      ]
     },
     "execution_count": 187,
     "metadata": {},
     "output_type": "execute_result"
    }
   ],
   "source": [
    "get_index(data_list, '') == 0 "
   ]
  },
  {
   "cell_type": "code",
   "execution_count": 188,
   "metadata": {},
   "outputs": [
    {
     "data": {
      "text/plain": [
       "False"
      ]
     },
     "execution_count": 188,
     "metadata": {},
     "output_type": "execute_result"
    }
   ],
   "source": [
    "get_index(data_list, 'Jess') == 585"
   ]
  },
  {
   "cell_type": "code",
   "execution_count": 189,
   "metadata": {},
   "outputs": [
    {
     "data": {
      "text/plain": [
       "74"
      ]
     },
     "execution_count": 189,
     "metadata": {},
     "output_type": "execute_result"
    }
   ],
   "source": [
    "ord('J')"
   ]
  },
  {
   "cell_type": "code",
   "execution_count": 190,
   "metadata": {},
   "outputs": [
    {
     "data": {
      "text/plain": [
       "101"
      ]
     },
     "execution_count": 190,
     "metadata": {},
     "output_type": "execute_result"
    }
   ],
   "source": [
    "ord('e')"
   ]
  },
  {
   "cell_type": "code",
   "execution_count": 191,
   "metadata": {},
   "outputs": [
    {
     "data": {
      "text/plain": [
       "115"
      ]
     },
     "execution_count": 191,
     "metadata": {},
     "output_type": "execute_result"
    }
   ],
   "source": [
    "ord('s')"
   ]
  },
  {
   "cell_type": "code",
   "execution_count": 192,
   "metadata": {},
   "outputs": [
    {
     "name": "stdout",
     "output_type": "stream",
     "text": [
      "405\n"
     ]
    }
   ],
   "source": [
    "# manually calculating jess converted  to numerics\n",
    "#      j + e + s*2  -- PEMDAS is imporant!\n",
    "print(74+101+115*2)"
   ]
  },
  {
   "cell_type": "code",
   "execution_count": 193,
   "metadata": {},
   "outputs": [
    {
     "data": {
      "text/plain": [
       "True"
      ]
     },
     "execution_count": 193,
     "metadata": {},
     "output_type": "execute_result"
    }
   ],
   "source": [
    "# ok let's check if 405 is truee for jess\n",
    "get_index(data_list, 'Jess') == 405"
   ]
  },
  {
   "cell_type": "code",
   "execution_count": 194,
   "metadata": {},
   "outputs": [],
   "source": [
    "# Insert\n",
    "key, value = 'Jess', '3344259117'"
   ]
  },
  {
   "cell_type": "code",
   "execution_count": 195,
   "metadata": {},
   "outputs": [
    {
     "data": {
      "text/plain": [
       "405"
      ]
     },
     "execution_count": 195,
     "metadata": {},
     "output_type": "execute_result"
    }
   ],
   "source": [
    "idx = get_index(data_list, key)\n",
    "idx"
   ]
  },
  {
   "cell_type": "code",
   "execution_count": 196,
   "metadata": {},
   "outputs": [],
   "source": [
    "data_list[idx] = (key, value)"
   ]
  },
  {
   "cell_type": "code",
   "execution_count": 197,
   "metadata": {},
   "outputs": [],
   "source": [
    "# same operation in a single line of code\n",
    "data_list[get_index(data_list, 'Cece')] = ('Cece', '1969635135')"
   ]
  },
  {
   "cell_type": "code",
   "execution_count": 198,
   "metadata": {},
   "outputs": [
    {
     "data": {
      "text/plain": [
       "405"
      ]
     },
     "execution_count": 198,
     "metadata": {},
     "output_type": "execute_result"
    }
   ],
   "source": [
    "# Find\n",
    "idx = get_index(data_list, 'Jess')\n",
    "idx"
   ]
  },
  {
   "cell_type": "code",
   "execution_count": 199,
   "metadata": {},
   "outputs": [
    {
     "data": {
      "text/plain": [
       "'3344259117'"
      ]
     },
     "execution_count": 199,
     "metadata": {},
     "output_type": "execute_result"
    }
   ],
   "source": [
    "key, value = data_list[idx]\n",
    "value"
   ]
  },
  {
   "cell_type": "code",
   "execution_count": 200,
   "metadata": {},
   "outputs": [],
   "source": [
    "# List\n",
    "# get a list of keys\n",
    "list1 = [1, 2, 3, 4, 5]"
   ]
  },
  {
   "cell_type": "code",
   "execution_count": 201,
   "metadata": {},
   "outputs": [],
   "source": [
    "# use list comprehensions which are written as [x for x in...]\n",
    "list2 = [x for x in list1]"
   ]
  },
  {
   "cell_type": "code",
   "execution_count": 202,
   "metadata": {},
   "outputs": [
    {
     "data": {
      "text/plain": [
       "[1, 2, 3, 4, 5]"
      ]
     },
     "execution_count": 202,
     "metadata": {},
     "output_type": "execute_result"
    }
   ],
   "source": [
    "list2"
   ]
  },
  {
   "cell_type": "code",
   "execution_count": 203,
   "metadata": {},
   "outputs": [],
   "source": [
    "list3 = [x*2 for x in list1]"
   ]
  },
  {
   "cell_type": "code",
   "execution_count": 204,
   "metadata": {},
   "outputs": [
    {
     "data": {
      "text/plain": [
       "[2, 4, 6, 8, 10]"
      ]
     },
     "execution_count": 204,
     "metadata": {},
     "output_type": "execute_result"
    }
   ],
   "source": [
    "list3"
   ]
  },
  {
   "cell_type": "code",
   "execution_count": 205,
   "metadata": {},
   "outputs": [],
   "source": [
    "list4 = [x*x for x in list1]"
   ]
  },
  {
   "cell_type": "code",
   "execution_count": 206,
   "metadata": {},
   "outputs": [
    {
     "data": {
      "text/plain": [
       "[1, 4, 9, 16, 25]"
      ]
     },
     "execution_count": 206,
     "metadata": {},
     "output_type": "execute_result"
    }
   ],
   "source": [
    "list4"
   ]
  },
  {
   "cell_type": "code",
   "execution_count": 207,
   "metadata": {},
   "outputs": [],
   "source": [
    "list_new = [1.3, 2.4, 3.2, 6, 7]"
   ]
  },
  {
   "cell_type": "code",
   "execution_count": 208,
   "metadata": {},
   "outputs": [],
   "source": [
    "import math\n",
    "list5 = [math.ceil (x) for x in list_new] # ceil rounds up to the nearest whole"
   ]
  },
  {
   "cell_type": "code",
   "execution_count": 209,
   "metadata": {},
   "outputs": [
    {
     "data": {
      "text/plain": [
       "[2, 3, 4, 6, 7]"
      ]
     },
     "execution_count": 209,
     "metadata": {},
     "output_type": "execute_result"
    }
   ],
   "source": [
    "list5"
   ]
  },
  {
   "cell_type": "code",
   "execution_count": 210,
   "metadata": {},
   "outputs": [],
   "source": [
    "import math\n",
    "list6 = [math.ceil (x) for x in list_new if x > 3] # adding an if condition in the list comprehension"
   ]
  },
  {
   "cell_type": "code",
   "execution_count": 211,
   "metadata": {},
   "outputs": [
    {
     "data": {
      "text/plain": [
       "[4, 6, 7]"
      ]
     },
     "execution_count": 211,
     "metadata": {},
     "output_type": "execute_result"
    }
   ],
   "source": [
    "list6"
   ]
  },
  {
   "cell_type": "code",
   "execution_count": 212,
   "metadata": {},
   "outputs": [],
   "source": [
    "kv = ('Cece', '1969635135') # key value pair"
   ]
  },
  {
   "cell_type": "code",
   "execution_count": 213,
   "metadata": {},
   "outputs": [
    {
     "data": {
      "text/plain": [
       "('Cece', '1969635135')"
      ]
     },
     "execution_count": 213,
     "metadata": {},
     "output_type": "execute_result"
    }
   ],
   "source": [
    "kv"
   ]
  },
  {
   "cell_type": "code",
   "execution_count": 214,
   "metadata": {},
   "outputs": [
    {
     "data": {
      "text/plain": [
       "'Cece'"
      ]
     },
     "execution_count": 214,
     "metadata": {},
     "output_type": "execute_result"
    }
   ],
   "source": [
    "kv[0] # key"
   ]
  },
  {
   "cell_type": "code",
   "execution_count": 215,
   "metadata": {},
   "outputs": [
    {
     "data": {
      "text/plain": [
       "'1969635135'"
      ]
     },
     "execution_count": 215,
     "metadata": {},
     "output_type": "execute_result"
    }
   ],
   "source": [
    "kv[1] # value"
   ]
  },
  {
   "cell_type": "code",
   "execution_count": 216,
   "metadata": {},
   "outputs": [],
   "source": [
    "# get the keys in the key value list where key value is not none\n",
    "keys = [kv[0] for kv in data_list if kv is not None]"
   ]
  },
  {
   "cell_type": "code",
   "execution_count": 217,
   "metadata": {},
   "outputs": [
    {
     "data": {
      "text/plain": [
       "['Cece', 'Jess']"
      ]
     },
     "execution_count": 217,
     "metadata": {},
     "output_type": "execute_result"
    }
   ],
   "source": [
    "keys"
   ]
  },
  {
   "cell_type": "code",
   "execution_count": 218,
   "metadata": {},
   "outputs": [],
   "source": [
    "# task: complete the hash table implementation\n",
    "class BasicHashTable:\n",
    "    def __init__(self, max_size = MAX_HASH_TABLE_SIZE):\n",
    "        # create a list of size 'max_size' with all values None\n",
    "        self.data_list = [None] * max_size\n",
    "        \n",
    "    def insert(self, key, value):\n",
    "        # find the index for the key using get_index\n",
    "        idx = get_index(self.data_list, key)\n",
    "        # store the key-value pair with the right index\n",
    "        self.data_list[idx] = (key, value)\n",
    "    \n",
    "    def find(self, key):\n",
    "        # find the index fo the key using get_index\n",
    "        idx = get_index(self.data_list, key)\n",
    "        # retrieve the data stored at the index\n",
    "        kv = self.data_list[idx]\n",
    "        # return the value if found, else display error message, alternatively just return None\n",
    "        if kv is None:\n",
    "            raise IndexError('Key not found')\n",
    "            #return None # alternatively it can just return none\n",
    "        else:\n",
    "            key, value = kv\n",
    "            return value\n",
    "    \n",
    "    def udpate(self, key, value):\n",
    "        # find the index fo the key using get_index\n",
    "        idx = get_index(self.data_list, key)\n",
    "        # store the new key-value pair at with the right index\n",
    "        self.data_list[idx] = key, value\n",
    "    def list_all(self):\n",
    "        # extract the key from each key-value pair\n",
    "        return [kv[0] for kv in self.data_list if kv is not None]"
   ]
  },
  {
   "cell_type": "code",
   "execution_count": 219,
   "metadata": {},
   "outputs": [
    {
     "data": {
      "text/plain": [
       "True"
      ]
     },
     "execution_count": 219,
     "metadata": {},
     "output_type": "execute_result"
    }
   ],
   "source": [
    "basic_table = BasicHashTable(max_size = 1024)\n",
    "len(basic_table.data_list) == 1024"
   ]
  },
  {
   "cell_type": "code",
   "execution_count": 220,
   "metadata": {},
   "outputs": [],
   "source": [
    "# insert some values\n",
    "basic_table.insert('Cece', '1969635135')\n",
    "basic_table.insert('Jess', '3344259117')"
   ]
  },
  {
   "cell_type": "code",
   "execution_count": 221,
   "metadata": {},
   "outputs": [
    {
     "data": {
      "text/plain": [
       "True"
      ]
     },
     "execution_count": 221,
     "metadata": {},
     "output_type": "execute_result"
    }
   ],
   "source": [
    "# find a value\n",
    "basic_table.find('Jess') == '3344259117'"
   ]
  },
  {
   "cell_type": "code",
   "execution_count": 222,
   "metadata": {},
   "outputs": [],
   "source": [
    "# update a value\n",
    "# updating Cece's last phone digit to a 6 from 5\n",
    "basic_table.udpate('Cece', '1969635136')"
   ]
  },
  {
   "cell_type": "code",
   "execution_count": 223,
   "metadata": {},
   "outputs": [
    {
     "data": {
      "text/plain": [
       "True"
      ]
     },
     "execution_count": 223,
     "metadata": {},
     "output_type": "execute_result"
    }
   ],
   "source": [
    "# check the udpated value\n",
    "basic_table.find('Cece') == '1969635136'"
   ]
  },
  {
   "cell_type": "code",
   "execution_count": 224,
   "metadata": {},
   "outputs": [
    {
     "data": {
      "text/plain": [
       "True"
      ]
     },
     "execution_count": 224,
     "metadata": {},
     "output_type": "execute_result"
    }
   ],
   "source": [
    "# get the list of keys\n",
    "basic_table.list_all() == ['Cece', 'Jess']"
   ]
  },
  {
   "cell_type": "code",
   "execution_count": 225,
   "metadata": {},
   "outputs": [
    {
     "data": {
      "text/plain": [
       "\"\\nHandling collision with linear probing\\n\\nWhat if there are multiple keys sharing the same hash? For instance 'listen' and 'silent' have the same hash.\\n    This is a collision.\\n    Data stored agianst one key may override the data stored against another if they share the same hash.\\n\\nTo handle collision the technique 'linear probing' must be used. Here's how it works.\\n    1. while inserting a new key-value pair, if the target index for a key is occupied by another key, then we try the next index,\\n        followed by the next, and so on until we reach the closest empty location\\n    2. while finding a key-value pair apply the same strategy by instead of searching for an empty location look for a location which contains\\n        a key-value pair with the matching key\\n    3. while updating a key-value pair apply the same strategy but instead of searching for an empty location look for a location which contains\\n        a key-value pair with the matching key and udpate its value\\n\\ndefine a function called get_valid_index which starts searchign the data list from the index determined by the hashing function get_index \\n    and returns the first index which is either empty or contains a key-value pair matching the given key\\n\""
      ]
     },
     "execution_count": 225,
     "metadata": {},
     "output_type": "execute_result"
    }
   ],
   "source": [
    "\"\"\"\n",
    "Handling collision with linear probing\n",
    "\n",
    "What if there are multiple keys sharing the same hash? For instance 'listen' and 'silent' have the same hash.\n",
    "    This is a collision.\n",
    "    Data stored agianst one key may override the data stored against another if they share the same hash.\n",
    "\n",
    "To handle collision the technique 'linear probing' must be used. Here's how it works.\n",
    "    1. while inserting a new key-value pair, if the target index for a key is occupied by another key, then we try the next index,\n",
    "        followed by the next, and so on until we reach the closest empty location\n",
    "    2. while finding a key-value pair apply the same strategy by instead of searching for an empty location look for a location which contains\n",
    "        a key-value pair with the matching key\n",
    "    3. while updating a key-value pair apply the same strategy but instead of searching for an empty location look for a location which contains\n",
    "        a key-value pair with the matching key and udpate its value\n",
    "\n",
    "define a function called get_valid_index which starts searchign the data list from the index determined by the hashing function get_index \n",
    "    and returns the first index which is either empty or contains a key-value pair matching the given key\n",
    "\"\"\""
   ]
  },
  {
   "cell_type": "code",
   "execution_count": 226,
   "metadata": {},
   "outputs": [
    {
     "data": {
      "text/plain": [
       "(655, 655)"
      ]
     },
     "execution_count": 226,
     "metadata": {},
     "output_type": "execute_result"
    }
   ],
   "source": [
    "get_index(data_list, 'listen'), get_index(data_list, 'silent')"
   ]
  },
  {
   "cell_type": "code",
   "execution_count": 227,
   "metadata": {},
   "outputs": [],
   "source": [
    "basic_table.insert('listen',99)"
   ]
  },
  {
   "cell_type": "code",
   "execution_count": 228,
   "metadata": {},
   "outputs": [],
   "source": [
    "basic_table.insert('silent',200)"
   ]
  },
  {
   "cell_type": "code",
   "execution_count": 229,
   "metadata": {},
   "outputs": [
    {
     "data": {
      "text/plain": [
       "200"
      ]
     },
     "execution_count": 229,
     "metadata": {},
     "output_type": "execute_result"
    }
   ],
   "source": [
    "basic_table.find('listen')\n",
    "# observation the value for the key 'listen' was overwritten by the value for the key 'silent'"
   ]
  },
  {
   "cell_type": "code",
   "execution_count": 234,
   "metadata": {},
   "outputs": [],
   "source": [
    "\n",
    "def get_valid_index(data_list, key):\n",
    "    # start with the index returned by get_index\n",
    "    idx = get_index(data_list, key)\n",
    "    while True:\n",
    "        # get the key-value pair stored at idx\n",
    "        kv = data_list[idx]\n",
    "        # if none return the index\n",
    "        if idx is None:\n",
    "            return idx\n",
    "        # if the stored key matches the given key, return the index\n",
    "        k, v = kv\n",
    "        if kv is None:\n",
    "            raise IndexError('Key not found')\n",
    "            return idx\n",
    "        # move to the next index\n",
    "        idx += 1\n",
    "        # go back to the start if you reached the end of the array\n",
    "        if idx == len(data_list):\n",
    "            idx = 0"
   ]
  },
  {
   "cell_type": "code",
   "execution_count": 235,
   "metadata": {},
   "outputs": [
    {
     "ename": "TypeError",
     "evalue": "cannot unpack non-iterable NoneType object",
     "output_type": "error",
     "traceback": [
      "\u001b[1;31m---------------------------------------------------------------------------\u001b[0m",
      "\u001b[1;31mTypeError\u001b[0m                                 Traceback (most recent call last)",
      "\u001b[1;32m~\\AppData\\Local\\Temp/ipykernel_15232/2829302292.py\u001b[0m in \u001b[0;36m<module>\u001b[1;34m\u001b[0m\n\u001b[0;32m      2\u001b[0m \u001b[0mdata_list2\u001b[0m \u001b[1;33m=\u001b[0m \u001b[1;33m[\u001b[0m\u001b[1;32mNone\u001b[0m\u001b[1;33m]\u001b[0m \u001b[1;33m*\u001b[0m \u001b[0mMAX_HASH_TABLE_SIZE\u001b[0m\u001b[1;33m\u001b[0m\u001b[1;33m\u001b[0m\u001b[0m\n\u001b[0;32m      3\u001b[0m \u001b[1;31m# new key 'listen' should return expected index\u001b[0m\u001b[1;33m\u001b[0m\u001b[1;33m\u001b[0m\u001b[1;33m\u001b[0m\u001b[0m\n\u001b[1;32m----> 4\u001b[1;33m \u001b[0mget_valid_index\u001b[0m\u001b[1;33m(\u001b[0m\u001b[0mdata_list2\u001b[0m\u001b[1;33m,\u001b[0m \u001b[1;34m'listen'\u001b[0m\u001b[1;33m)\u001b[0m \u001b[1;33m==\u001b[0m \u001b[1;36m655\u001b[0m\u001b[1;33m\u001b[0m\u001b[1;33m\u001b[0m\u001b[0m\n\u001b[0m",
      "\u001b[1;32m~\\AppData\\Local\\Temp/ipykernel_15232/87966420.py\u001b[0m in \u001b[0;36mget_valid_index\u001b[1;34m(data_list, key)\u001b[0m\n\u001b[0;32m      9\u001b[0m             \u001b[1;32mreturn\u001b[0m \u001b[0midx\u001b[0m\u001b[1;33m\u001b[0m\u001b[1;33m\u001b[0m\u001b[0m\n\u001b[0;32m     10\u001b[0m         \u001b[1;31m# if the stored key matches the given key, return the index\u001b[0m\u001b[1;33m\u001b[0m\u001b[1;33m\u001b[0m\u001b[1;33m\u001b[0m\u001b[0m\n\u001b[1;32m---> 11\u001b[1;33m         \u001b[0mk\u001b[0m\u001b[1;33m,\u001b[0m \u001b[0mv\u001b[0m \u001b[1;33m=\u001b[0m \u001b[0mkv\u001b[0m\u001b[1;33m\u001b[0m\u001b[1;33m\u001b[0m\u001b[0m\n\u001b[0m\u001b[0;32m     12\u001b[0m         \u001b[1;32mif\u001b[0m \u001b[0mkv\u001b[0m \u001b[1;32mis\u001b[0m \u001b[1;32mNone\u001b[0m\u001b[1;33m:\u001b[0m\u001b[1;33m\u001b[0m\u001b[1;33m\u001b[0m\u001b[0m\n\u001b[0;32m     13\u001b[0m             \u001b[1;32mraise\u001b[0m \u001b[0mIndexError\u001b[0m\u001b[1;33m(\u001b[0m\u001b[1;34m'Key not found'\u001b[0m\u001b[1;33m)\u001b[0m\u001b[1;33m\u001b[0m\u001b[1;33m\u001b[0m\u001b[0m\n",
      "\u001b[1;31mTypeError\u001b[0m: cannot unpack non-iterable NoneType object"
     ]
    }
   ],
   "source": [
    "# create an empty hash table\n",
    "data_list2 = [None] * MAX_HASH_TABLE_SIZE\n",
    "# new key 'listen' should return expected index\n",
    "get_valid_index(data_list2, 'listen') == 655"
   ]
  },
  {
   "cell_type": "code",
   "execution_count": null,
   "metadata": {},
   "outputs": [
    {
     "ename": "NameError",
     "evalue": "name 'data_list2' is not defined",
     "output_type": "error",
     "traceback": [
      "\u001b[1;31m---------------------------------------------------------------------------\u001b[0m",
      "\u001b[1;31mNameError\u001b[0m                                 Traceback (most recent call last)",
      "\u001b[1;32m~\\AppData\\Local\\Temp/ipykernel_15232/3742475379.py\u001b[0m in \u001b[0;36m<module>\u001b[1;34m\u001b[0m\n\u001b[0;32m      1\u001b[0m \u001b[1;31m# insert a key-value pair for the key 'listen'\u001b[0m\u001b[1;33m\u001b[0m\u001b[1;33m\u001b[0m\u001b[1;33m\u001b[0m\u001b[0m\n\u001b[1;32m----> 2\u001b[1;33m \u001b[0mdata_list2\u001b[0m\u001b[1;33m[\u001b[0m\u001b[0mget_index\u001b[0m\u001b[1;33m(\u001b[0m\u001b[0mdata_list2\u001b[0m\u001b[1;33m,\u001b[0m \u001b[1;34m'listen'\u001b[0m\u001b[1;33m)\u001b[0m\u001b[1;33m]\u001b[0m \u001b[1;33m=\u001b[0m \u001b[1;33m(\u001b[0m\u001b[1;34m'listen'\u001b[0m\u001b[1;33m,\u001b[0m \u001b[1;36m99\u001b[0m\u001b[1;33m)\u001b[0m\u001b[1;33m\u001b[0m\u001b[1;33m\u001b[0m\u001b[0m\n\u001b[0m\u001b[0;32m      3\u001b[0m \u001b[1;31m# colliding key 'silent' should return next index\u001b[0m\u001b[1;33m\u001b[0m\u001b[1;33m\u001b[0m\u001b[1;33m\u001b[0m\u001b[0m\n\u001b[0;32m      4\u001b[0m \u001b[0mget_valid_index\u001b[0m\u001b[1;33m(\u001b[0m\u001b[0mdata_list2\u001b[0m\u001b[1;33m,\u001b[0m \u001b[1;34m'listen'\u001b[0m\u001b[1;33m)\u001b[0m \u001b[1;33m==\u001b[0m \u001b[1;36m656\u001b[0m\u001b[1;33m\u001b[0m\u001b[1;33m\u001b[0m\u001b[0m\n",
      "\u001b[1;31mNameError\u001b[0m: name 'data_list2' is not defined"
     ]
    }
   ],
   "source": [
    "# insert a key-value pair for the key 'listen'\n",
    "data_list2[get_index(data_list2, 'listen')] = ('listen', 99)\n",
    "# colliding key 'silent' should return next index\n",
    "get_valid_index(data_list2, 'listen') == 656"
   ]
  },
  {
   "cell_type": "code",
   "execution_count": null,
   "metadata": {},
   "outputs": [],
   "source": [
    "class ProbingHashTable:\n",
    "    def __init__(self, max_size = MAX_HASH_TABLE_SIZE):\n",
    "        # create a list of size 'max_size' with all values None\n",
    "        self.data_list - ???\n",
    "    \n",
    "    def insert(self, key, value):\n",
    "        # find the index for the key using get_valid_index\n",
    "        idx = get_valid_index(self.data_list, ???)\n",
    "        # store the key-value pair at the right index\n",
    "        self.data_list[idx] = ???\n",
    "        \n",
    "    def find(self, key):\n",
    "        # find the index for the key using get_valid_index\n",
    "        idx = ???\n",
    "        # retrieve the data stored at the index\n",
    "        kv = ???\n",
    "        # return the value if found else return none\n",
    "        return None if kv is None else kv[1]\n",
    "    \n",
    "    def update(self, key, value):\n",
    "        # find the index for the key using get_valid_index\n",
    "        idx = ???\n",
    "        # store the key-value pair at the right index\n",
    "        self.data_list[idx] = ???\n",
    "        \n",
    "    def list_all(self):\n",
    "        # extract the key from each key-value pair\n",
    "        return [??? for kn in self.data_list if kv is not None]"
   ]
  },
  {
   "cell_type": "code",
   "execution_count": null,
   "metadata": {},
   "outputs": [],
   "source": [
    "# create a new hash table\n",
    "probing_table = ProbingHashTable()\n",
    "# insert a value\n",
    "probing_table.insert('listen', 99)\n",
    "# check the vlaue\n",
    "probing_table.find('listen') == 99\n"
   ]
  },
  {
   "cell_type": "code",
   "execution_count": null,
   "metadata": {},
   "outputs": [],
   "source": [
    "# isnert a colliding key \n",
    "probing_table.insert('silent', 200)\n",
    "# check the new and old keys\n",
    "probing_table.find('listen') == 99 and probing_table.find('silent') == 200"
   ]
  },
  {
   "cell_type": "code",
   "execution_count": null,
   "metadata": {},
   "outputs": [],
   "source": [
    "# udpate a key \n",
    "probing_table.insert('listen', 101)"
   ]
  },
  {
   "cell_type": "code",
   "execution_count": null,
   "metadata": {},
   "outputs": [],
   "source": [
    "probing_table.list_all() == ['listen', 'silent']"
   ]
  },
  {
   "cell_type": "code",
   "execution_count": null,
   "metadata": {},
   "outputs": [],
   "source": [
    "#pick up 5:17.48 https://youtu.be/pkYVOmU3MgA?t=19068"
   ]
  }
 ],
 "metadata": {
  "kernelspec": {
   "display_name": "Python 3.9.5 64-bit",
   "language": "python",
   "name": "python3"
  },
  "language_info": {
   "codemirror_mode": {
    "name": "ipython",
    "version": 3
   },
   "file_extension": ".py",
   "mimetype": "text/x-python",
   "name": "python",
   "nbconvert_exporter": "python",
   "pygments_lexer": "ipython3",
   "version": "3.9.5"
  },
  "orig_nbformat": 4,
  "vscode": {
   "interpreter": {
    "hash": "a1e7865366026992a9ce10d0aa31687cc23edbb28b0a7b117cacc3eb7a507505"
   }
  }
 },
 "nbformat": 4,
 "nbformat_minor": 2
}
